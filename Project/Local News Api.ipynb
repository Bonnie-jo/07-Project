{
 "cells": [
  {
   "cell_type": "code",
   "execution_count": 2,
   "metadata": {},
   "outputs": [],
   "source": [
    "# Dependencies and Setup\n",
    "import matplotlib.pyplot as plt\n",
    "import pandas as pd\n",
    "import numpy as np\n",
    "import requests\n",
    "import time\n",
    "\n",
    "\n",
    "# Import API key\n",
    "from pprint import pprint\n",
    "from config import api_key \n",
    "from pandas.io.json import json_normalize\n",
    "\n",
    "import urllib3\n",
    "urllib3.disable_warnings()\n"
   ]
  },
  {
   "cell_type": "code",
   "execution_count": 3,
   "metadata": {},
   "outputs": [
    {
     "name": "stdout",
     "output_type": "stream",
     "text": [
      "https://www.accunewsapp.com/api/v1/articles/?lon=28.9025&lat=82.5926&apiKey=ceb89258ec1bc5b95870cba7d41ddfeba99e8bc7&keyword=Florida%20Man%5C&radius=300\n"
     ]
    }
   ],
   "source": [
    "#starting URL\n",
    "\n",
    "keywords =\"Florida Man\"\n",
    "url = \"https://www.accunewsapp.com/api/v1/articles/?lon=28.9025&lat=82.5926&apiKey=\" + api_key + \"&keyword=Florida%20Man%5C&radius=300\"\n",
    "\n",
    "print(url)"
   ]
  },
  {
   "cell_type": "code",
   "execution_count": 4,
   "metadata": {},
   "outputs": [
    {
     "name": "stdout",
     "output_type": "stream",
     "text": [
      "https://www.accunewsapp.com/api/v1/articles/?lon=28.9025&lat=82.5926&apiKey=ceb89258ec1bc5b95870cba7d41ddfeba99e8bc7&keyword=Florida+Man%5C&radius=300&cursor=AoIIQ9pXqDluZXdzZmVlZC5hcnRpY2xlLjc5MzEzNjQ1\n",
      "https://www.accunewsapp.com/api/v1/articles/?lon=28.9025&lat=82.5926&apiKey=ceb89258ec1bc5b95870cba7d41ddfeba99e8bc7&keyword=Florida+Man%5C&radius=300&cursor=AoIIQ9oIdzluZXdzZmVlZC5hcnRpY2xlLjc5MTI5Nzcw\n",
      "https://www.accunewsapp.com/api/v1/articles/?lon=28.9025&lat=82.5926&apiKey=ceb89258ec1bc5b95870cba7d41ddfeba99e8bc7&keyword=Florida+Man%5C&radius=300&cursor=AoIIQ9nTsDluZXdzZmVlZC5hcnRpY2xlLjc5NTAzMTMy\n",
      "https://www.accunewsapp.com/api/v1/articles/?lon=28.9025&lat=82.5926&apiKey=ceb89258ec1bc5b95870cba7d41ddfeba99e8bc7&keyword=Florida+Man%5C&radius=300&cursor=AoIIQ9msgzluZXdzZmVlZC5hcnRpY2xlLjc5NDI1NjIy\n",
      "https://www.accunewsapp.com/api/v1/articles/?lon=28.9025&lat=82.5926&apiKey=ceb89258ec1bc5b95870cba7d41ddfeba99e8bc7&keyword=Florida+Man%5C&radius=300&cursor=AoIIQ9mTXDluZXdzZmVlZC5hcnRpY2xlLjc4ODc2ODM4\n",
      "https://www.accunewsapp.com/api/v1/articles/?lon=28.9025&lat=82.5926&apiKey=ceb89258ec1bc5b95870cba7d41ddfeba99e8bc7&keyword=Florida+Man%5C&radius=300&cursor=AoIIQ9lz8TluZXdzZmVlZC5hcnRpY2xlLjc5MTM0OTk3\n",
      "https://www.accunewsapp.com/api/v1/articles/?lon=28.9025&lat=82.5926&apiKey=ceb89258ec1bc5b95870cba7d41ddfeba99e8bc7&keyword=Florida+Man%5C&radius=300&cursor=AoIIQ9lMUjluZXdzZmVlZC5hcnRpY2xlLjc5MjE1Mzc1\n",
      "https://www.accunewsapp.com/api/v1/articles/?lon=28.9025&lat=82.5926&apiKey=ceb89258ec1bc5b95870cba7d41ddfeba99e8bc7&keyword=Florida+Man%5C&radius=300&cursor=AoIIQ9k0njluZXdzZmVlZC5hcnRpY2xlLjc4NDMwODI2\n",
      "https://www.accunewsapp.com/api/v1/articles/?lon=28.9025&lat=82.5926&apiKey=ceb89258ec1bc5b95870cba7d41ddfeba99e8bc7&keyword=Florida+Man%5C&radius=300&cursor=AoIIQ9kZ%2FjluZXdzZmVlZC5hcnRpY2xlLjc4ODQ3ODEy\n",
      "https://www.accunewsapp.com/api/v1/articles/?lon=28.9025&lat=82.5926&apiKey=ceb89258ec1bc5b95870cba7d41ddfeba99e8bc7&keyword=Florida+Man%5C&radius=300&cursor=AoIIQ9kACzluZXdzZmVlZC5hcnRpY2xlLjc4ODA3MjI0\n",
      "https://www.accunewsapp.com/api/v1/articles/?lon=28.9025&lat=82.5926&apiKey=ceb89258ec1bc5b95870cba7d41ddfeba99e8bc7&keyword=Florida+Man%5C&radius=300&cursor=AoIIQ9jvODluZXdzZmVlZC5hcnRpY2xlLjc5MTgzMDg4\n",
      "https://www.accunewsapp.com/api/v1/articles/?lon=28.9025&lat=82.5926&apiKey=ceb89258ec1bc5b95870cba7d41ddfeba99e8bc7&keyword=Florida+Man%5C&radius=300&cursor=AoIIQ9jU%2BjluZXdzZmVlZC5hcnRpY2xlLjc4NzM2NTk4\n",
      "https://www.accunewsapp.com/api/v1/articles/?lon=28.9025&lat=82.5926&apiKey=ceb89258ec1bc5b95870cba7d41ddfeba99e8bc7&keyword=Florida+Man%5C&radius=300&cursor=AoIIQ9i0QTluZXdzZmVlZC5hcnRpY2xlLjc4NzAxMzQw\n",
      "https://www.accunewsapp.com/api/v1/articles/?lon=28.9025&lat=82.5926&apiKey=ceb89258ec1bc5b95870cba7d41ddfeba99e8bc7&keyword=Florida+Man%5C&radius=300&cursor=AoIIQ9iZNDluZXdzZmVlZC5hcnRpY2xlLjc4NjgwNTc4\n",
      "https://www.accunewsapp.com/api/v1/articles/?lon=28.9025&lat=82.5926&apiKey=ceb89258ec1bc5b95870cba7d41ddfeba99e8bc7&keyword=Florida+Man%5C&radius=300&cursor=AoIIQ9iHajluZXdzZmVlZC5hcnRpY2xlLjc4ODE4MTE2\n",
      "https://www.accunewsapp.com/api/v1/articles/?lon=28.9025&lat=82.5926&apiKey=ceb89258ec1bc5b95870cba7d41ddfeba99e8bc7&keyword=Florida+Man%5C&radius=300&cursor=AoIIQ9ht3jluZXdzZmVlZC5hcnRpY2xlLjc5MzEyMzg3\n",
      "https://www.accunewsapp.com/api/v1/articles/?lon=28.9025&lat=82.5926&apiKey=ceb89258ec1bc5b95870cba7d41ddfeba99e8bc7&keyword=Florida+Man%5C&radius=300&cursor=AoIIQ9hVdTluZXdzZmVlZC5hcnRpY2xlLjc4NDc3Mjk4\n",
      "https://www.accunewsapp.com/api/v1/articles/?lon=28.9025&lat=82.5926&apiKey=ceb89258ec1bc5b95870cba7d41ddfeba99e8bc7&keyword=Florida+Man%5C&radius=300&cursor=AoIIQ9hAIDluZXdzZmVlZC5hcnRpY2xlLjc4ODY4NDM2\n",
      "https://www.accunewsapp.com/api/v1/articles/?lon=28.9025&lat=82.5926&apiKey=ceb89258ec1bc5b95870cba7d41ddfeba99e8bc7&keyword=Florida+Man%5C&radius=300&cursor=AoIIQ9go%2FjluZXdzZmVlZC5hcnRpY2xlLjc4MTM2MDAx\n",
      "https://www.accunewsapp.com/api/v1/articles/?lon=28.9025&lat=82.5926&apiKey=ceb89258ec1bc5b95870cba7d41ddfeba99e8bc7&keyword=Florida+Man%5C&radius=300&cursor=AoIIQ9gaazluZXdzZmVlZC5hcnRpY2xlLjc4MTI5NDc4\n",
      "https://www.accunewsapp.com/api/v1/articles/?lon=28.9025&lat=82.5926&apiKey=ceb89258ec1bc5b95870cba7d41ddfeba99e8bc7&keyword=Florida+Man%5C&radius=300&cursor=AoIIQ9gAWjluZXdzZmVlZC5hcnRpY2xlLjc4MDcxMTIx\n",
      "https://www.accunewsapp.com/api/v1/articles/?lon=28.9025&lat=82.5926&apiKey=ceb89258ec1bc5b95870cba7d41ddfeba99e8bc7&keyword=Florida+Man%5C&radius=300&cursor=AoIIQ9fqyzluZXdzZmVlZC5hcnRpY2xlLjc3Nzk1NzI2\n",
      "https://www.accunewsapp.com/api/v1/articles/?lon=28.9025&lat=82.5926&apiKey=ceb89258ec1bc5b95870cba7d41ddfeba99e8bc7&keyword=Florida+Man%5C&radius=300&cursor=AoIIQ9fMhjluZXdzZmVlZC5hcnRpY2xlLjc3NDM4NzY3\n",
      "https://www.accunewsapp.com/api/v1/articles/?lon=28.9025&lat=82.5926&apiKey=ceb89258ec1bc5b95870cba7d41ddfeba99e8bc7&keyword=Florida+Man%5C&radius=300&cursor=AoIIQ9e3PTluZXdzZmVlZC5hcnRpY2xlLjc3MzAzMTE0\n",
      "https://www.accunewsapp.com/api/v1/articles/?lon=28.9025&lat=82.5926&apiKey=ceb89258ec1bc5b95870cba7d41ddfeba99e8bc7&keyword=Florida+Man%5C&radius=300&cursor=AoIIQ9eneTluZXdzZmVlZC5hcnRpY2xlLjc3NDM2OTMx\n",
      "https://www.accunewsapp.com/api/v1/articles/?lon=28.9025&lat=82.5926&apiKey=ceb89258ec1bc5b95870cba7d41ddfeba99e8bc7&keyword=Florida+Man%5C&radius=300&cursor=AoIIQ9eUADluZXdzZmVlZC5hcnRpY2xlLjc3MzIxNDEw\n",
      "https://www.accunewsapp.com/api/v1/articles/?lon=28.9025&lat=82.5926&apiKey=ceb89258ec1bc5b95870cba7d41ddfeba99e8bc7&keyword=Florida+Man%5C&radius=300&cursor=AoIIQ9eBDTluZXdzZmVlZC5hcnRpY2xlLjc3NjEzMjQ5\n",
      "https://www.accunewsapp.com/api/v1/articles/?lon=28.9025&lat=82.5926&apiKey=ceb89258ec1bc5b95870cba7d41ddfeba99e8bc7&keyword=Florida+Man%5C&radius=300&cursor=AoIIQ9dtkDluZXdzZmVlZC5hcnRpY2xlLjc3MzkzMTUz\n",
      "https://www.accunewsapp.com/api/v1/articles/?lon=28.9025&lat=82.5926&apiKey=ceb89258ec1bc5b95870cba7d41ddfeba99e8bc7&keyword=Florida+Man%5C&radius=300&cursor=AoIIQ9dXTjluZXdzZmVlZC5hcnRpY2xlLjc3MTgwNDcw\n",
      "https://www.accunewsapp.com/api/v1/articles/?lon=28.9025&lat=82.5926&apiKey=ceb89258ec1bc5b95870cba7d41ddfeba99e8bc7&keyword=Florida+Man%5C&radius=300&cursor=AoIIQ9c%2BGDluZXdzZmVlZC5hcnRpY2xlLjc3MTI4MDAz\n",
      "https://www.accunewsapp.com/api/v1/articles/?lon=28.9025&lat=82.5926&apiKey=ceb89258ec1bc5b95870cba7d41ddfeba99e8bc7&keyword=Florida+Man%5C&radius=300&cursor=AoIIQ9coIzluZXdzZmVlZC5hcnRpY2xlLjc3MDg0MjA2\n",
      "https://www.accunewsapp.com/api/v1/articles/?lon=28.9025&lat=82.5926&apiKey=ceb89258ec1bc5b95870cba7d41ddfeba99e8bc7&keyword=Florida+Man%5C&radius=300&cursor=AoIIQ9cOxzluZXdzZmVlZC5hcnRpY2xlLjc3MTEyNDU2\n",
      "https://www.accunewsapp.com/api/v1/articles/?lon=28.9025&lat=82.5926&apiKey=ceb89258ec1bc5b95870cba7d41ddfeba99e8bc7&keyword=Florida+Man%5C&radius=300&cursor=AoIIQ9buMzluZXdzZmVlZC5hcnRpY2xlLjc3MTU2Njgy\n",
      "https://www.accunewsapp.com/api/v1/articles/?lon=28.9025&lat=82.5926&apiKey=ceb89258ec1bc5b95870cba7d41ddfeba99e8bc7&keyword=Florida+Man%5C&radius=300&cursor=AoIIQ9bBODluZXdzZmVlZC5hcnRpY2xlLjc3NzgyMjM5\n",
      "https://www.accunewsapp.com/api/v1/articles/?lon=28.9025&lat=82.5926&apiKey=ceb89258ec1bc5b95870cba7d41ddfeba99e8bc7&keyword=Florida+Man%5C&radius=300&cursor=AoIIQ9agTjluZXdzZmVlZC5hcnRpY2xlLjc4NzY2OTM0\n",
      "https://www.accunewsapp.com/api/v1/articles/?lon=28.9025&lat=82.5926&apiKey=ceb89258ec1bc5b95870cba7d41ddfeba99e8bc7&keyword=Florida+Man%5C&radius=300&cursor=AoIIQ9Z6MTluZXdzZmVlZC5hcnRpY2xlLjc3MTAzODA1\n",
      "https://www.accunewsapp.com/api/v1/articles/?lon=28.9025&lat=82.5926&apiKey=ceb89258ec1bc5b95870cba7d41ddfeba99e8bc7&keyword=Florida+Man%5C&radius=300&cursor=AoIIQ9ZPwDluZXdzZmVlZC5hcnRpY2xlLjc2NDI4NjY5\n",
      "https://www.accunewsapp.com/api/v1/articles/?lon=28.9025&lat=82.5926&apiKey=ceb89258ec1bc5b95870cba7d41ddfeba99e8bc7&keyword=Florida+Man%5C&radius=300&cursor=AoIIQ9YylzluZXdzZmVlZC5hcnRpY2xlLjc2NTA0NTY3\n",
      "https://www.accunewsapp.com/api/v1/articles/?lon=28.9025&lat=82.5926&apiKey=ceb89258ec1bc5b95870cba7d41ddfeba99e8bc7&keyword=Florida+Man%5C&radius=300&cursor=AoIIQ9YeBzluZXdzZmVlZC5hcnRpY2xlLjc3NzY3MDI4\n",
      "https://www.accunewsapp.com/api/v1/articles/?lon=28.9025&lat=82.5926&apiKey=ceb89258ec1bc5b95870cba7d41ddfeba99e8bc7&keyword=Florida+Man%5C&radius=300&cursor=AoIIQ9X70TluZXdzZmVlZC5hcnRpY2xlLjc2NTcxNzQy\n",
      "https://www.accunewsapp.com/api/v1/articles/?lon=28.9025&lat=82.5926&apiKey=ceb89258ec1bc5b95870cba7d41ddfeba99e8bc7&keyword=Florida+Man%5C&radius=300&cursor=AoIIQ9XW5jluZXdzZmVlZC5hcnRpY2xlLjc2MzgxMjIz\n"
     ]
    },
    {
     "name": "stdout",
     "output_type": "stream",
     "text": [
      "https://www.accunewsapp.com/api/v1/articles/?lon=28.9025&lat=82.5926&apiKey=ceb89258ec1bc5b95870cba7d41ddfeba99e8bc7&keyword=Florida+Man%5C&radius=300&cursor=AoIIQ9W4GzluZXdzZmVlZC5hcnRpY2xlLjc2MDIyMjg3\n",
      "https://www.accunewsapp.com/api/v1/articles/?lon=28.9025&lat=82.5926&apiKey=ceb89258ec1bc5b95870cba7d41ddfeba99e8bc7&keyword=Florida+Man%5C&radius=300&cursor=AoIIQ9WeGTluZXdzZmVlZC5hcnRpY2xlLjc2MDgzNzc0\n",
      "https://www.accunewsapp.com/api/v1/articles/?lon=28.9025&lat=82.5926&apiKey=ceb89258ec1bc5b95870cba7d41ddfeba99e8bc7&keyword=Florida+Man%5C&radius=300&cursor=AoIIQ9V9ZjluZXdzZmVlZC5hcnRpY2xlLjc2MDI3NzMw\n",
      "https://www.accunewsapp.com/api/v1/articles/?lon=28.9025&lat=82.5926&apiKey=ceb89258ec1bc5b95870cba7d41ddfeba99e8bc7&keyword=Florida+Man%5C&radius=300&cursor=AoIIQ9VnSzluZXdzZmVlZC5hcnRpY2xlLjc2MTc2NjA0\n",
      "https://www.accunewsapp.com/api/v1/articles/?lon=28.9025&lat=82.5926&apiKey=ceb89258ec1bc5b95870cba7d41ddfeba99e8bc7&keyword=Florida+Man%5C&radius=300&cursor=AoIIQ9VTgzluZXdzZmVlZC5hcnRpY2xlLjc2MTE1NjIx\n",
      "https://www.accunewsapp.com/api/v1/articles/?lon=28.9025&lat=82.5926&apiKey=ceb89258ec1bc5b95870cba7d41ddfeba99e8bc7&keyword=Florida+Man%5C&radius=300&cursor=AoIIQ9U7rjluZXdzZmVlZC5hcnRpY2xlLjc1NzIyODk0\n",
      "https://www.accunewsapp.com/api/v1/articles/?lon=28.9025&lat=82.5926&apiKey=ceb89258ec1bc5b95870cba7d41ddfeba99e8bc7&keyword=Florida+Man%5C&radius=300&cursor=AoIIQ9UYdzluZXdzZmVlZC5hcnRpY2xlLjc2MTU2MTk5\n",
      "https://www.accunewsapp.com/api/v1/articles/?lon=28.9025&lat=82.5926&apiKey=ceb89258ec1bc5b95870cba7d41ddfeba99e8bc7&keyword=Florida+Man%5C&radius=300&cursor=AoIIQ9UEKjluZXdzZmVlZC5hcnRpY2xlLjc3MDU5MDM2\n",
      "https://www.accunewsapp.com/api/v1/articles/?lon=28.9025&lat=82.5926&apiKey=ceb89258ec1bc5b95870cba7d41ddfeba99e8bc7&keyword=Florida+Man%5C&radius=300&cursor=AoIIQ9TrsTluZXdzZmVlZC5hcnRpY2xlLjc1Mzk0OTkw\n",
      "https://www.accunewsapp.com/api/v1/articles/?lon=28.9025&lat=82.5926&apiKey=ceb89258ec1bc5b95870cba7d41ddfeba99e8bc7&keyword=Florida+Man%5C&radius=300&cursor=AoIIQ9TZYzluZXdzZmVlZC5hcnRpY2xlLjc3NDM1NjU0\n",
      "https://www.accunewsapp.com/api/v1/articles/?lon=28.9025&lat=82.5926&apiKey=ceb89258ec1bc5b95870cba7d41ddfeba99e8bc7&keyword=Florida+Man%5C&radius=300&cursor=AoIIQ9TE3DluZXdzZmVlZC5hcnRpY2xlLjc1NDUwNTc1\n",
      "https://www.accunewsapp.com/api/v1/articles/?lon=28.9025&lat=82.5926&apiKey=ceb89258ec1bc5b95870cba7d41ddfeba99e8bc7&keyword=Florida+Man%5C&radius=300&cursor=AoIIQ9SwCjluZXdzZmVlZC5hcnRpY2xlLjc1ODI2MTE0\n",
      "https://www.accunewsapp.com/api/v1/articles/?lon=28.9025&lat=82.5926&apiKey=ceb89258ec1bc5b95870cba7d41ddfeba99e8bc7&keyword=Florida+Man%5C&radius=300&cursor=AoIIQ9SazDluZXdzZmVlZC5hcnRpY2xlLjc2ODg5NjA2\n",
      "https://www.accunewsapp.com/api/v1/articles/?lon=28.9025&lat=82.5926&apiKey=ceb89258ec1bc5b95870cba7d41ddfeba99e8bc7&keyword=Florida+Man%5C&radius=300&cursor=AoIIQ9SNQTluZXdzZmVlZC5hcnRpY2xlLjc2NTU0MjEx\n",
      "https://www.accunewsapp.com/api/v1/articles/?lon=28.9025&lat=82.5926&apiKey=ceb89258ec1bc5b95870cba7d41ddfeba99e8bc7&keyword=Florida+Man%5C&radius=300&cursor=AoIIQ9R34zluZXdzZmVlZC5hcnRpY2xlLjc2MTE5MDEw\n",
      "https://www.accunewsapp.com/api/v1/articles/?lon=28.9025&lat=82.5926&apiKey=ceb89258ec1bc5b95870cba7d41ddfeba99e8bc7&keyword=Florida+Man%5C&radius=300&cursor=AoIIQ9Rm7TluZXdzZmVlZC5hcnRpY2xlLjc1MjAxODUx\n",
      "https://www.accunewsapp.com/api/v1/articles/?lon=28.9025&lat=82.5926&apiKey=ceb89258ec1bc5b95870cba7d41ddfeba99e8bc7&keyword=Florida+Man%5C&radius=300&cursor=AoIIQ9RTZTluZXdzZmVlZC5hcnRpY2xlLjc2NDE2NzY0\n",
      "https://www.accunewsapp.com/api/v1/articles/?lon=28.9025&lat=82.5926&apiKey=ceb89258ec1bc5b95870cba7d41ddfeba99e8bc7&keyword=Florida+Man%5C&radius=300&cursor=AoIIQ9Q%2FADluZXdzZmVlZC5hcnRpY2xlLjc3MzM3MTcy\n",
      "https://www.accunewsapp.com/api/v1/articles/?lon=28.9025&lat=82.5926&apiKey=ceb89258ec1bc5b95870cba7d41ddfeba99e8bc7&keyword=Florida+Man%5C&radius=300&cursor=AoIIQ9Qw%2FDluZXdzZmVlZC5hcnRpY2xlLjc0OTIyODkw\n"
     ]
    },
    {
     "ename": "KeyError",
     "evalue": "'next'",
     "output_type": "error",
     "traceback": [
      "\u001b[1;31m---------------------------------------------------------------------------\u001b[0m",
      "\u001b[1;31mKeyError\u001b[0m                                  Traceback (most recent call last)",
      "\u001b[1;32m<ipython-input-4-f84b4ddff26d>\u001b[0m in \u001b[0;36m<module>\u001b[1;34m\u001b[0m\n\u001b[0;32m     27\u001b[0m         \u001b[1;32mbreak\u001b[0m\u001b[1;33m\u001b[0m\u001b[1;33m\u001b[0m\u001b[0m\n\u001b[0;32m     28\u001b[0m \u001b[1;33m\u001b[0m\u001b[0m\n\u001b[1;32m---> 29\u001b[1;33m     \u001b[0mprint\u001b[0m\u001b[1;33m(\u001b[0m\u001b[0marticles\u001b[0m\u001b[1;33m[\u001b[0m\u001b[1;34m'next'\u001b[0m\u001b[1;33m]\u001b[0m\u001b[1;33m)\u001b[0m\u001b[1;33m\u001b[0m\u001b[1;33m\u001b[0m\u001b[0m\n\u001b[0m\u001b[0;32m     30\u001b[0m \u001b[1;33m\u001b[0m\u001b[0m\n",
      "\u001b[1;31mKeyError\u001b[0m: 'next'"
     ]
    }
   ],
   "source": [
    "\n",
    "titles_1 = []\n",
    "summary_1 = []\n",
    "link_1 = []\n",
    "time_1 = []\n",
    "source_1 = []\n",
    "address_1 = []\n",
    "\n",
    "articles = requests.get(url,verify=False).json()\n",
    "print(articles['next'])\n",
    "i = 0\n",
    "while True:\n",
    "   \n",
    "    for result in articles['results'] :\n",
    "        titles_1.append(result['title'])\n",
    "        summary_1.append(result['summary'])\n",
    "        time_1.append(result['time'])\n",
    "        link_1.append(result['link'])\n",
    "        source_1.append(result['source']['name'])\n",
    "        address_1.append(result['source']['address'])\n",
    "        i = i + 1\n",
    "    if i >100000: \n",
    "        break\n",
    "    articles = requests.get(articles['next'],verify=False).json()\n",
    "        \n",
    "    if articles == {}:\n",
    "        break\n",
    "            \n",
    "    print(articles['next'])\n",
    "    "
   ]
  },
  {
   "cell_type": "code",
   "execution_count": 6,
   "metadata": {},
   "outputs": [],
   "source": [
    "news_df_dict = {'Title': titles_1,\n",
    "          'Summary': summary_1,\n",
    "          'Link': link_1,\n",
    "          'Time': time_1,\n",
    "          'Source': source_1,\n",
    "          'Address': address_1}\n",
    "\n",
    "news_df = pd.DataFrame(news_df_dict)\n",
    "\n",
    "news_df.to_csv(\"Local_news_data.csv\", index=False)"
   ]
  },
  {
   "cell_type": "code",
   "execution_count": null,
   "metadata": {},
   "outputs": [],
   "source": []
  }
 ],
 "metadata": {
  "kernelspec": {
   "display_name": "Python [conda env:PythonData] *",
   "language": "python",
   "name": "conda-env-PythonData-py"
  },
  "language_info": {
   "codemirror_mode": {
    "name": "ipython",
    "version": 3
   },
   "file_extension": ".py",
   "mimetype": "text/x-python",
   "name": "python",
   "nbconvert_exporter": "python",
   "pygments_lexer": "ipython3",
   "version": "3.6.8"
  }
 },
 "nbformat": 4,
 "nbformat_minor": 2
}
