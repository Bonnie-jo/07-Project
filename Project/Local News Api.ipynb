{
 "cells": [
  {
   "cell_type": "code",
   "execution_count": 27,
   "metadata": {},
   "outputs": [],
   "source": [
    "# Dependencies and Setup\n",
    "import matplotlib.pyplot as plt\n",
    "import pandas as pd\n",
    "import numpy as np\n",
    "import requests\n",
    "import time\n",
    "\n",
    "\n",
    "# Import API key\n",
    "from pprint import pprint\n",
    "from config import api_key1 \n",
    "from pandas.io.json import json_normalize\n",
    "\n",
    "import urllib3\n",
    "urllib3.disable_warnings()\n"
   ]
  },
  {
   "cell_type": "code",
   "execution_count": 28,
   "metadata": {},
   "outputs": [
    {
     "name": "stdout",
     "output_type": "stream",
     "text": [
      "enter search criteriaFlorida Gang\n",
      "https://www.accunewsapp.com/api/v1/articles/?lon=28.9025&lat=82.5926&apiKey=2eef5d73f1bb2c6b0aba8aca93436ea0f56df309&keyword=Florida Gang&radius=300\n"
     ]
    }
   ],
   "source": [
    "#starting URL\n",
    "\n",
    "keywords =input(\"enter search criteria\")\n",
    "url = \"https://www.accunewsapp.com/api/v1/articles/?lon=28.9025&lat=82.5926&apiKey=\" + api_key1 + \"&keyword=\"+keywords+\"&radius=300\"\n",
    "\n",
    "print(url)"
   ]
  },
  {
   "cell_type": "code",
   "execution_count": 38,
   "metadata": {},
   "outputs": [
    {
     "name": "stdout",
     "output_type": "stream",
     "text": [
      "https://www.accunewsapp.com/api/v1/articles/?lon=28.9025&lat=82.5926&apiKey=2eef5d73f1bb2c6b0aba8aca93436ea0f56df309&keyword=Florida+Gang&radius=300&cursor=AoIIQ9drKzluZXdzZmVlZC5hcnRpY2xlLjc4MDE5NzY2\n"
     ]
    },
    {
     "ename": "KeyError",
     "evalue": "'results'",
     "output_type": "error",
     "traceback": [
      "\u001b[1;31m---------------------------------------------------------------------------\u001b[0m",
      "\u001b[1;31mKeyError\u001b[0m                                  Traceback (most recent call last)",
      "\u001b[1;32m<ipython-input-38-9752d05437d6>\u001b[0m in \u001b[0;36m<module>\u001b[1;34m\u001b[0m\n\u001b[0;32m     13\u001b[0m \u001b[1;32mwhile\u001b[0m \u001b[1;32mTrue\u001b[0m\u001b[1;33m:\u001b[0m\u001b[1;33m\u001b[0m\u001b[1;33m\u001b[0m\u001b[0m\n\u001b[0;32m     14\u001b[0m \u001b[1;33m\u001b[0m\u001b[0m\n\u001b[1;32m---> 15\u001b[1;33m     \u001b[1;32mfor\u001b[0m \u001b[0mresult\u001b[0m \u001b[1;32min\u001b[0m \u001b[0marticles\u001b[0m\u001b[1;33m[\u001b[0m\u001b[1;34m'results'\u001b[0m\u001b[1;33m]\u001b[0m \u001b[1;33m:\u001b[0m\u001b[1;33m\u001b[0m\u001b[1;33m\u001b[0m\u001b[0m\n\u001b[0m\u001b[0;32m     16\u001b[0m         \u001b[0mtitles_1\u001b[0m\u001b[1;33m.\u001b[0m\u001b[0mappend\u001b[0m\u001b[1;33m(\u001b[0m\u001b[0mresult\u001b[0m\u001b[1;33m[\u001b[0m\u001b[1;34m'title'\u001b[0m\u001b[1;33m]\u001b[0m\u001b[1;33m)\u001b[0m\u001b[1;33m\u001b[0m\u001b[1;33m\u001b[0m\u001b[0m\n\u001b[0;32m     17\u001b[0m         \u001b[0msummary_1\u001b[0m\u001b[1;33m.\u001b[0m\u001b[0mappend\u001b[0m\u001b[1;33m(\u001b[0m\u001b[0mresult\u001b[0m\u001b[1;33m[\u001b[0m\u001b[1;34m'summary'\u001b[0m\u001b[1;33m]\u001b[0m\u001b[1;33m)\u001b[0m\u001b[1;33m\u001b[0m\u001b[1;33m\u001b[0m\u001b[0m\n",
      "\u001b[1;31mKeyError\u001b[0m: 'results'"
     ]
    }
   ],
   "source": [
    "\n",
    "titles_1 = []\n",
    "summary_1 = []\n",
    "link_1 = []\n",
    "time_1 = []\n",
    "source_1 = []\n",
    "address_1 = []\n",
    "category_1 = []\n",
    "\n",
    "articles = requests.get(url,verify=False).json()\n",
    "print(articles['next'])\n",
    "i = 0\n",
    "while True:\n",
    "   \n",
    "    for result in articles['results'] :\n",
    "        titles_1.append(result['title'])\n",
    "        summary_1.append(result['summary'])\n",
    "        time_1.append(result['time'])\n",
    "        link_1.append(result['link'])\n",
    "        source_1.append(result['source']['name'])\n",
    "        address_1.append(result['source']['address'])\n",
    "        category_1.append(\"Couple\")\n",
    "        i = i + 1\n",
    "    if i >1000000: \n",
    "        break\n",
    "    articles = requests.get(articles['next'],verify=False).json()\n",
    "        \n",
    "    if articles == {}:\n",
    "        break\n",
    "            \n",
    "    print(articles['next'])\n",
    "    "
   ]
  },
  {
   "cell_type": "code",
   "execution_count": 23,
   "metadata": {},
   "outputs": [],
   "source": [
    "news_df_dict = {'Title': titles_1,\n",
    "          'Summary': summary_1,\n",
    "          'Link': link_1,\n",
    "          'Time': time_1,\n",
    "          'Source': source_1,\n",
    "            'Category': category_1,   \n",
    "          'Address': address_1}\n",
    "\n",
    "news_df = pd.DataFrame(news_df_dict)\n",
    "\n",
    "news_df.to_csv(\"data/Local_\"+keywords+\".csv\", index=False)"
   ]
  },
  {
   "cell_type": "code",
   "execution_count": 24,
   "metadata": {},
   "outputs": [],
   "source": [
    "local_df = pd.read_csv(\"data/Local_\"+keywords+\".csv\")"
   ]
  },
  {
   "cell_type": "code",
   "execution_count": 39,
   "metadata": {},
   "outputs": [],
   "source": [
    "local_df = local_df.dropna(how='all')\n",
    "\n",
    "new = local_df['Address'].str.split(\",\",n=3, expand=True)\n",
    "new['street_address'] = new[0]\n",
    "new['city'] = new[1]\n",
    "new['state'] = new[2]\n",
    "new1 = new['state'].str.split(n=1, expand=True)\n",
    "\n",
    "new1.rename(columns={0: \"State\",1: \"Zip\"}, inplace=True)\n",
    "\n",
    "clean = local_df.merge(new1, right_index=True, left_index=True)\n",
    "\n",
    "#wh_data_cl = wh_data.loc[wh_data['Humidity'] <= 101]\n",
    "clean_df = clean.loc[clean['State'] == \"FL\"]"
   ]
  },
  {
   "cell_type": "code",
   "execution_count": 26,
   "metadata": {},
   "outputs": [],
   "source": [
    "local_news_df = clean_df\n",
    "local_news_df.to_csv(\"data/Local_\"+keywords+\".csv\")"
   ]
  },
  {
   "cell_type": "code",
   "execution_count": null,
   "metadata": {},
   "outputs": [],
   "source": []
  }
 ],
 "metadata": {
  "kernelspec": {
   "display_name": "Python [conda env:PythonData] *",
   "language": "python",
   "name": "conda-env-PythonData-py"
  },
  "language_info": {
   "codemirror_mode": {
    "name": "ipython",
    "version": 3
   },
   "file_extension": ".py",
   "mimetype": "text/x-python",
   "name": "python",
   "nbconvert_exporter": "python",
   "pygments_lexer": "ipython3",
   "version": "3.6.8"
  }
 },
 "nbformat": 4,
 "nbformat_minor": 2
}
