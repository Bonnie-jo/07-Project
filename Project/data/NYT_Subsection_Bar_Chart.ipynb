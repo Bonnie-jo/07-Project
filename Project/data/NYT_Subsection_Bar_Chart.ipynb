{
 "cells": [
  {
   "cell_type": "code",
   "execution_count": 2,
   "metadata": {},
   "outputs": [],
   "source": [
    "%matplotlib inline"
   ]
  },
  {
   "cell_type": "code",
   "execution_count": 3,
   "metadata": {},
   "outputs": [],
   "source": [
    "import pandas as pd\n",
    "import matplotlib.pyplot as plt\n",
    "import numpy as np"
   ]
  },
  {
   "cell_type": "code",
   "execution_count": 4,
   "metadata": {},
   "outputs": [
    {
     "data": {
      "text/html": [
       "<div>\n",
       "<style scoped>\n",
       "    .dataframe tbody tr th:only-of-type {\n",
       "        vertical-align: middle;\n",
       "    }\n",
       "\n",
       "    .dataframe tbody tr th {\n",
       "        vertical-align: top;\n",
       "    }\n",
       "\n",
       "    .dataframe thead th {\n",
       "        text-align: right;\n",
       "    }\n",
       "</style>\n",
       "<table border=\"1\" class=\"dataframe\">\n",
       "  <thead>\n",
       "    <tr style=\"text-align: right;\">\n",
       "      <th></th>\n",
       "      <th>Unnamed: 0</th>\n",
       "      <th>Title</th>\n",
       "      <th>Summary</th>\n",
       "      <th>Link</th>\n",
       "      <th>Time</th>\n",
       "      <th>Section</th>\n",
       "      <th>Subsection</th>\n",
       "      <th>Category</th>\n",
       "      <th>State</th>\n",
       "    </tr>\n",
       "  </thead>\n",
       "  <tbody>\n",
       "    <tr>\n",
       "      <th>0</th>\n",
       "      <td>0</td>\n",
       "      <td>75-Year-Old Florida Man Kicks Alligator, Saves...</td>\n",
       "      <td>A 75-year-old Florida man says he kicked an al...</td>\n",
       "      <td>https://www.nytimes.com/aponline/2019/07/13/us...</td>\n",
       "      <td>2019-07-13T17:12:21+0000</td>\n",
       "      <td>U.S.</td>\n",
       "      <td>U.S.</td>\n",
       "      <td>Florida Man</td>\n",
       "      <td>National</td>\n",
       "    </tr>\n",
       "    <tr>\n",
       "      <th>1</th>\n",
       "      <td>1</td>\n",
       "      <td>Florida Man Pleads Guilty to Threatening Cory ...</td>\n",
       "      <td>The man, who said in racist and expletive-lace...</td>\n",
       "      <td>https://www.nytimes.com/2019/06/11/us/threats-...</td>\n",
       "      <td>2019-06-12T01:02:29+0000</td>\n",
       "      <td>U.S.</td>\n",
       "      <td>U.S.</td>\n",
       "      <td>Florida Man</td>\n",
       "      <td>National</td>\n",
       "    </tr>\n",
       "    <tr>\n",
       "      <th>2</th>\n",
       "      <td>2</td>\n",
       "      <td>Florida Man Charged in Racist Threats Against ...</td>\n",
       "      <td>The man, John J. Kless, of Florida, made phone...</td>\n",
       "      <td>https://www.nytimes.com/2019/04/19/us/threats-...</td>\n",
       "      <td>2019-04-20T01:25:03+0000</td>\n",
       "      <td>U.S.</td>\n",
       "      <td>U.S.</td>\n",
       "      <td>Florida Man</td>\n",
       "      <td>National</td>\n",
       "    </tr>\n",
       "    <tr>\n",
       "      <th>3</th>\n",
       "      <td>3</td>\n",
       "      <td>‘The Legend of Cocaine Island’ Review: Florida...</td>\n",
       "      <td>A harebrained scheme ends in comic confusion i...</td>\n",
       "      <td>https://www.nytimes.com/2019/03/29/movies/the-...</td>\n",
       "      <td>2019-03-29T12:00:01+0000</td>\n",
       "      <td>Movies</td>\n",
       "      <td>Movies</td>\n",
       "      <td>Florida Man</td>\n",
       "      <td>National</td>\n",
       "    </tr>\n",
       "    <tr>\n",
       "      <th>4</th>\n",
       "      <td>4</td>\n",
       "      <td>Sweet! Florida Man Wins July 4 Key Lime Pie-ea...</td>\n",
       "      <td>A Key West man has won the Mile-High Key Lime ...</td>\n",
       "      <td>https://www.nytimes.com/aponline/2019/07/04/us...</td>\n",
       "      <td>2019-07-04T20:00:22+0000</td>\n",
       "      <td>U.S.</td>\n",
       "      <td>U.S.</td>\n",
       "      <td>Florida Man</td>\n",
       "      <td>National</td>\n",
       "    </tr>\n",
       "  </tbody>\n",
       "</table>\n",
       "</div>"
      ],
      "text/plain": [
       "   Unnamed: 0                                              Title  \\\n",
       "0           0  75-Year-Old Florida Man Kicks Alligator, Saves...   \n",
       "1           1  Florida Man Pleads Guilty to Threatening Cory ...   \n",
       "2           2  Florida Man Charged in Racist Threats Against ...   \n",
       "3           3  ‘The Legend of Cocaine Island’ Review: Florida...   \n",
       "4           4  Sweet! Florida Man Wins July 4 Key Lime Pie-ea...   \n",
       "\n",
       "                                             Summary  \\\n",
       "0  A 75-year-old Florida man says he kicked an al...   \n",
       "1  The man, who said in racist and expletive-lace...   \n",
       "2  The man, John J. Kless, of Florida, made phone...   \n",
       "3  A harebrained scheme ends in comic confusion i...   \n",
       "4  A Key West man has won the Mile-High Key Lime ...   \n",
       "\n",
       "                                                Link  \\\n",
       "0  https://www.nytimes.com/aponline/2019/07/13/us...   \n",
       "1  https://www.nytimes.com/2019/06/11/us/threats-...   \n",
       "2  https://www.nytimes.com/2019/04/19/us/threats-...   \n",
       "3  https://www.nytimes.com/2019/03/29/movies/the-...   \n",
       "4  https://www.nytimes.com/aponline/2019/07/04/us...   \n",
       "\n",
       "                       Time Section Subsection     Category     State  \n",
       "0  2019-07-13T17:12:21+0000    U.S.       U.S.  Florida Man  National  \n",
       "1  2019-06-12T01:02:29+0000    U.S.       U.S.  Florida Man  National  \n",
       "2  2019-04-20T01:25:03+0000    U.S.       U.S.  Florida Man  National  \n",
       "3  2019-03-29T12:00:01+0000  Movies     Movies  Florida Man  National  \n",
       "4  2019-07-04T20:00:22+0000    U.S.       U.S.  Florida Man  National  "
      ]
     },
     "execution_count": 4,
     "metadata": {},
     "output_type": "execute_result"
    }
   ],
   "source": [
    "#import csv\n",
    "nyt_data_to_load = \"filtered_nyt_Florida_Man_data.csv\"\n",
    "\n",
    "#read csv\n",
    "nyt_man_data = pd.read_csv(nyt_data_to_load)\n",
    "nyt_man_data.head()"
   ]
  },
  {
   "cell_type": "code",
   "execution_count": 5,
   "metadata": {},
   "outputs": [
    {
     "data": {
      "text/html": [
       "<div>\n",
       "<style scoped>\n",
       "    .dataframe tbody tr th:only-of-type {\n",
       "        vertical-align: middle;\n",
       "    }\n",
       "\n",
       "    .dataframe tbody tr th {\n",
       "        vertical-align: top;\n",
       "    }\n",
       "\n",
       "    .dataframe thead th {\n",
       "        text-align: right;\n",
       "    }\n",
       "</style>\n",
       "<table border=\"1\" class=\"dataframe\">\n",
       "  <thead>\n",
       "    <tr style=\"text-align: right;\">\n",
       "      <th></th>\n",
       "      <th>Article Count</th>\n",
       "    </tr>\n",
       "    <tr>\n",
       "      <th>Subsection</th>\n",
       "      <th></th>\n",
       "    </tr>\n",
       "  </thead>\n",
       "  <tbody>\n",
       "    <tr>\n",
       "      <th>Archives</th>\n",
       "      <td>61</td>\n",
       "    </tr>\n",
       "    <tr>\n",
       "      <th>Blogs</th>\n",
       "      <td>2</td>\n",
       "    </tr>\n",
       "    <tr>\n",
       "      <th>Business Day</th>\n",
       "      <td>2</td>\n",
       "    </tr>\n",
       "    <tr>\n",
       "      <th>Movies</th>\n",
       "      <td>1</td>\n",
       "    </tr>\n",
       "    <tr>\n",
       "      <th>Multimedia/Photos</th>\n",
       "      <td>4</td>\n",
       "    </tr>\n",
       "  </tbody>\n",
       "</table>\n",
       "</div>"
      ],
      "text/plain": [
       "                   Article Count\n",
       "Subsection                      \n",
       "Archives                      61\n",
       "Blogs                          2\n",
       "Business Day                   2\n",
       "Movies                         1\n",
       "Multimedia/Photos              4"
      ]
     },
     "execution_count": 5,
     "metadata": {},
     "output_type": "execute_result"
    }
   ],
   "source": [
    "#GroupBy\n",
    "grouped_sub = nyt_man_data.groupby(['Subsection'])\n",
    "total_sub = grouped_sub['Subsection'].count()\n",
    "sub_df = pd.DataFrame({'Article Count': total_sub})\n",
    "\n",
    "sub_df.head()"
   ]
  },
  {
   "cell_type": "code",
   "execution_count": 47,
   "metadata": {},
   "outputs": [
    {
     "data": {
      "image/png": "[encoded data removed]",
      "text/plain": [
       "<Figure size 720x360 with 1 Axes>"
      ]
     },
     "metadata": {
      "needs_background": "light"
     },
     "output_type": "display_data"
    }
   ],
   "source": [
    "sub_df.plot.bar(colors='royalblue',\n",
    "                figsize=(10,5),\n",
    "               legend = False,\n",
    "               title =\"Stories from the NYT by Subsection\")\n",
    "plt.savefig('Subsection Bar Chart.png')"
   ]
  }
 ],
 "metadata": {
  "kernelspec": {
   "display_name": "Python [conda env:PythonData] *",
   "language": "python",
   "name": "conda-env-PythonData-py"
  },
  "language_info": {
   "codemirror_mode": {
    "name": "ipython",
    "version": 3
   },
   "file_extension": ".py",
   "mimetype": "text/x-python",
   "name": "python",
   "nbconvert_exporter": "python",
   "pygments_lexer": "ipython3",
   "version": "3.6.8"
  }
 },
 "nbformat": 4,
 "nbformat_minor": 2
}
