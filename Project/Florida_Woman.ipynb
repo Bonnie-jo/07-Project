{
 "cells": [
  {
   "cell_type": "code",
   "execution_count": 1,
   "metadata": {},
   "outputs": [],
   "source": [
    "# Dependencies and Setup\n",
    "import matplotlib.pyplot as plt\n",
    "import pandas as pd\n",
    "import numpy as np\n",
    "import requests\n",
    "import time\n",
    "\n",
    "\n",
    "# Import API key\n",
    "from pprint import pprint\n",
    "from config import api_key \n",
    "from pandas.io.json import json_normalize\n",
    "\n",
    "import urllib3\n",
    "urllib3.disable_warnings()\n"
   ]
  },
  {
   "cell_type": "code",
   "execution_count": 2,
   "metadata": {},
   "outputs": [
    {
     "name": "stdout",
     "output_type": "stream",
     "text": [
      "https://www.accunewsapp.com/api/v1/articles/?lon=28.9025&lat=82.5926&apiKey=ceb89258ec1bc5b95870cba7d41ddfeba99e8bc7&keyword=Florida%20Woman%5C&radius=300\n"
     ]
    }
   ],
   "source": [
    "#starting URL\n",
    "\n",
    "\n",
    "url = \"https://www.accunewsapp.com/api/v1/articles/?lon=28.9025&lat=82.5926&apiKey=\" + api_key + \"&keyword=Florida%20Woman%5C&radius=300\"\n",
    "\n",
    "print(url)"
   ]
  },
  {
   "cell_type": "code",
   "execution_count": 3,
   "metadata": {},
   "outputs": [
    {
     "name": "stdout",
     "output_type": "stream",
     "text": [
      "https://www.accunewsapp.com/api/v1/articles/?lon=28.9025&lat=82.5926&apiKey=ceb89258ec1bc5b95870cba7d41ddfeba99e8bc7&keyword=Florida+Woman%5C&radius=300&cursor=AoIIQ9qvcjluZXdzZmVlZC5hcnRpY2xlLjc5MTExMjM3\n",
      "https://www.accunewsapp.com/api/v1/articles/?lon=28.9025&lat=82.5926&apiKey=ceb89258ec1bc5b95870cba7d41ddfeba99e8bc7&keyword=Florida+Woman%5C&radius=300&cursor=AoIIQ9o9WTluZXdzZmVlZC5hcnRpY2xlLjc4Njg5MzIx\n",
      "https://www.accunewsapp.com/api/v1/articles/?lon=28.9025&lat=82.5926&apiKey=ceb89258ec1bc5b95870cba7d41ddfeba99e8bc7&keyword=Florida+Woman%5C&radius=300&cursor=AoIIQ9nj0zluZXdzZmVlZC5hcnRpY2xlLjc5MTc4NTM2\n",
      "https://www.accunewsapp.com/api/v1/articles/?lon=28.9025&lat=82.5926&apiKey=ceb89258ec1bc5b95870cba7d41ddfeba99e8bc7&keyword=Florida+Woman%5C&radius=300&cursor=AoIIQ9mpJTluZXdzZmVlZC5hcnRpY2xlLjc4ODM5NzEz\n",
      "https://www.accunewsapp.com/api/v1/articles/?lon=28.9025&lat=82.5926&apiKey=ceb89258ec1bc5b95870cba7d41ddfeba99e8bc7&keyword=Florida+Woman%5C&radius=300&cursor=AoIIQ9lgETluZXdzZmVlZC5hcnRpY2xlLjc5MTgzMDg4\n",
      "https://www.accunewsapp.com/api/v1/articles/?lon=28.9025&lat=82.5926&apiKey=ceb89258ec1bc5b95870cba7d41ddfeba99e8bc7&keyword=Florida+Woman%5C&radius=300&cursor=AoIIQ9kw4jluZXdzZmVlZC5hcnRpY2xlLjc4ODYxNTcy\n",
      "https://www.accunewsapp.com/api/v1/articles/?lon=28.9025&lat=82.5926&apiKey=ceb89258ec1bc5b95870cba7d41ddfeba99e8bc7&keyword=Florida+Woman%5C&radius=300&cursor=AoIIQ9kMbTluZXdzZmVlZC5hcnRpY2xlLjc4ODI4Njcx\n",
      "https://www.accunewsapp.com/api/v1/articles/?lon=28.9025&lat=82.5926&apiKey=ceb89258ec1bc5b95870cba7d41ddfeba99e8bc7&keyword=Florida+Woman%5C&radius=300&cursor=AoIIQ9jmHzluZXdzZmVlZC5hcnRpY2xlLjc3NzMyNzEx\n",
      "https://www.accunewsapp.com/api/v1/articles/?lon=28.9025&lat=82.5926&apiKey=ceb89258ec1bc5b95870cba7d41ddfeba99e8bc7&keyword=Florida+Woman%5C&radius=300&cursor=AoIIQ9jKqDluZXdzZmVlZC5hcnRpY2xlLjc4MDc3MDg5\n",
      "https://www.accunewsapp.com/api/v1/articles/?lon=28.9025&lat=82.5926&apiKey=ceb89258ec1bc5b95870cba7d41ddfeba99e8bc7&keyword=Florida+Woman%5C&radius=300&cursor=AoIIQ9ilEDluZXdzZmVlZC5hcnRpY2xlLjc3NjU4MzMz\n",
      "https://www.accunewsapp.com/api/v1/articles/?lon=28.9025&lat=82.5926&apiKey=ceb89258ec1bc5b95870cba7d41ddfeba99e8bc7&keyword=Florida+Woman%5C&radius=300&cursor=AoIIQ9iCXTluZXdzZmVlZC5hcnRpY2xlLjc4NTI2NzM4\n",
      "https://www.accunewsapp.com/api/v1/articles/?lon=28.9025&lat=82.5926&apiKey=ceb89258ec1bc5b95870cba7d41ddfeba99e8bc7&keyword=Florida+Woman%5C&radius=300&cursor=AoIIQ9hlEzluZXdzZmVlZC5hcnRpY2xlLjc3NjczODA2\n",
      "https://www.accunewsapp.com/api/v1/articles/?lon=28.9025&lat=82.5926&apiKey=ceb89258ec1bc5b95870cba7d41ddfeba99e8bc7&keyword=Florida+Woman%5C&radius=300&cursor=AoIIQ9hHODluZXdzZmVlZC5hcnRpY2xlLjc3NTk1NjQz\n",
      "https://www.accunewsapp.com/api/v1/articles/?lon=28.9025&lat=82.5926&apiKey=ceb89258ec1bc5b95870cba7d41ddfeba99e8bc7&keyword=Florida+Woman%5C&radius=300&cursor=AoIIQ9ge1zluZXdzZmVlZC5hcnRpY2xlLjc3Mzk1MzY5\n",
      "https://www.accunewsapp.com/api/v1/articles/?lon=28.9025&lat=82.5926&apiKey=ceb89258ec1bc5b95870cba7d41ddfeba99e8bc7&keyword=Florida+Woman%5C&radius=300&cursor=AoIIQ9fznjluZXdzZmVlZC5hcnRpY2xlLjc5MjEyNjg1\n",
      "https://www.accunewsapp.com/api/v1/articles/?lon=28.9025&lat=82.5926&apiKey=ceb89258ec1bc5b95870cba7d41ddfeba99e8bc7&keyword=Florida+Woman%5C&radius=300&cursor=AoIIQ9e38zluZXdzZmVlZC5hcnRpY2xlLjc3NjM3MjM4\n",
      "https://www.accunewsapp.com/api/v1/articles/?lon=28.9025&lat=82.5926&apiKey=ceb89258ec1bc5b95870cba7d41ddfeba99e8bc7&keyword=Florida+Woman%5C&radius=300&cursor=AoIIQ9eEVTluZXdzZmVlZC5hcnRpY2xlLjc3MTU2Njgy\n",
      "https://www.accunewsapp.com/api/v1/articles/?lon=28.9025&lat=82.5926&apiKey=ceb89258ec1bc5b95870cba7d41ddfeba99e8bc7&keyword=Florida+Woman%5C&radius=300&cursor=AoIIQ9dZbTluZXdzZmVlZC5hcnRpY2xlLjc3NzkxNjM5\n",
      "https://www.accunewsapp.com/api/v1/articles/?lon=28.9025&lat=82.5926&apiKey=ceb89258ec1bc5b95870cba7d41ddfeba99e8bc7&keyword=Florida+Woman%5C&radius=300&cursor=AoIIQ9cexTluZXdzZmVlZC5hcnRpY2xlLjc3Mzg2NjA4\n",
      "https://www.accunewsapp.com/api/v1/articles/?lon=28.9025&lat=82.5926&apiKey=ceb89258ec1bc5b95870cba7d41ddfeba99e8bc7&keyword=Florida+Woman%5C&radius=300&cursor=AoIIQ9blqjluZXdzZmVlZC5hcnRpY2xlLjc2MzkwNjI2\n",
      "https://www.accunewsapp.com/api/v1/articles/?lon=28.9025&lat=82.5926&apiKey=ceb89258ec1bc5b95870cba7d41ddfeba99e8bc7&keyword=Florida+Woman%5C&radius=300&cursor=AoIIQ9a8QjluZXdzZmVlZC5hcnRpY2xlLjc3NDI4NDkw\n",
      "https://www.accunewsapp.com/api/v1/articles/?lon=28.9025&lat=82.5926&apiKey=ceb89258ec1bc5b95870cba7d41ddfeba99e8bc7&keyword=Florida+Woman%5C&radius=300&cursor=AoIIQ9aBaDluZXdzZmVlZC5hcnRpY2xlLjc2NTcxNzQy\n",
      "https://www.accunewsapp.com/api/v1/articles/?lon=28.9025&lat=82.5926&apiKey=ceb89258ec1bc5b95870cba7d41ddfeba99e8bc7&keyword=Florida+Woman%5C&radius=300&cursor=AoIIQ9ZRTjluZXdzZmVlZC5hcnRpY2xlLjc2ODAzMjYy\n",
      "https://www.accunewsapp.com/api/v1/articles/?lon=28.9025&lat=82.5926&apiKey=ceb89258ec1bc5b95870cba7d41ddfeba99e8bc7&keyword=Florida+Woman%5C&radius=300&cursor=AoIIQ9YcizluZXdzZmVlZC5hcnRpY2xlLjc2NDMxNjAz\n",
      "https://www.accunewsapp.com/api/v1/articles/?lon=28.9025&lat=82.5926&apiKey=ceb89258ec1bc5b95870cba7d41ddfeba99e8bc7&keyword=Florida+Woman%5C&radius=300&cursor=AoIIQ9XerDluZXdzZmVlZC5hcnRpY2xlLjc2NDUwNjMy\n",
      "https://www.accunewsapp.com/api/v1/articles/?lon=28.9025&lat=82.5926&apiKey=ceb89258ec1bc5b95870cba7d41ddfeba99e8bc7&keyword=Florida+Woman%5C&radius=300&cursor=AoIIQ9WmJjluZXdzZmVlZC5hcnRpY2xlLjc2MzAyNDgy\n",
      "https://www.accunewsapp.com/api/v1/articles/?lon=28.9025&lat=82.5926&apiKey=ceb89258ec1bc5b95870cba7d41ddfeba99e8bc7&keyword=Florida+Woman%5C&radius=300&cursor=AoIIQ9VySjluZXdzZmVlZC5hcnRpY2xlLjc2MDg2OTU3\n",
      "https://www.accunewsapp.com/api/v1/articles/?lon=28.9025&lat=82.5926&apiKey=ceb89258ec1bc5b95870cba7d41ddfeba99e8bc7&keyword=Florida+Woman%5C&radius=300&cursor=AoIIQ9VDwTluZXdzZmVlZC5hcnRpY2xlLjc1Mjc1NDEy\n",
      "https://www.accunewsapp.com/api/v1/articles/?lon=28.9025&lat=82.5926&apiKey=ceb89258ec1bc5b95870cba7d41ddfeba99e8bc7&keyword=Florida+Woman%5C&radius=300&cursor=AoIIQ9UaKjluZXdzZmVlZC5hcnRpY2xlLjc1NzA1MDgz\n",
      "https://www.accunewsapp.com/api/v1/articles/?lon=28.9025&lat=82.5926&apiKey=ceb89258ec1bc5b95870cba7d41ddfeba99e8bc7&keyword=Florida+Woman%5C&radius=300&cursor=AoIIQ9TeJTluZXdzZmVlZC5hcnRpY2xlLjc1NTQ1OTA2\n",
      "https://www.accunewsapp.com/api/v1/articles/?lon=28.9025&lat=82.5926&apiKey=ceb89258ec1bc5b95870cba7d41ddfeba99e8bc7&keyword=Florida+Woman%5C&radius=300&cursor=AoIIQ9Sf3TluZXdzZmVlZC5hcnRpY2xlLjc1ODQ4MTUx\n",
      "https://www.accunewsapp.com/api/v1/articles/?lon=28.9025&lat=82.5926&apiKey=ceb89258ec1bc5b95870cba7d41ddfeba99e8bc7&keyword=Florida+Woman%5C&radius=300&cursor=AoIIQ9Ro6zluZXdzZmVlZC5hcnRpY2xlLjc1ODQ4MjYy\n",
      "https://www.accunewsapp.com/api/v1/articles/?lon=28.9025&lat=82.5926&apiKey=ceb89258ec1bc5b95870cba7d41ddfeba99e8bc7&keyword=Florida+Woman%5C&radius=300&cursor=AoIIQ9RA5jluZXdzZmVlZC5hcnRpY2xlLjc1NDk1MDk3\n",
      "https://www.accunewsapp.com/api/v1/articles/?lon=28.9025&lat=82.5926&apiKey=ceb89258ec1bc5b95870cba7d41ddfeba99e8bc7&keyword=Florida+Woman%5C&radius=300&cursor=AoIIQ9QO2zluZXdzZmVlZC5hcnRpY2xlLjc1MDcwMjg1\n",
      "https://www.accunewsapp.com/api/v1/articles/?lon=28.9025&lat=82.5926&apiKey=ceb89258ec1bc5b95870cba7d41ddfeba99e8bc7&keyword=Florida+Woman%5C&radius=300&cursor=AoIIQ9PO%2FzluZXdzZmVlZC5hcnRpY2xlLjc1MDI3NzY1\n",
      "https://www.accunewsapp.com/api/v1/articles/?lon=28.9025&lat=82.5926&apiKey=ceb89258ec1bc5b95870cba7d41ddfeba99e8bc7&keyword=Florida+Woman%5C&radius=300&cursor=AoIIQ9ORsDluZXdzZmVlZC5hcnRpY2xlLjc1NDIxODI1\n",
      "https://www.accunewsapp.com/api/v1/articles/?lon=28.9025&lat=82.5926&apiKey=ceb89258ec1bc5b95870cba7d41ddfeba99e8bc7&keyword=Florida+Woman%5C&radius=300&cursor=AoIIQ9NarjluZXdzZmVlZC5hcnRpY2xlLjc2MDgzODEw\n",
      "https://www.accunewsapp.com/api/v1/articles/?lon=28.9025&lat=82.5926&apiKey=ceb89258ec1bc5b95870cba7d41ddfeba99e8bc7&keyword=Florida+Woman%5C&radius=300&cursor=AoIIQ9MfYDluZXdzZmVlZC5hcnRpY2xlLjc1MDQ3Mjk4\n",
      "https://www.accunewsapp.com/api/v1/articles/?lon=28.9025&lat=82.5926&apiKey=ceb89258ec1bc5b95870cba7d41ddfeba99e8bc7&keyword=Florida+Woman%5C&radius=300&cursor=AoIIQ9LoRDluZXdzZmVlZC5hcnRpY2xlLjc0NzM0MDc4\n",
      "https://www.accunewsapp.com/api/v1/articles/?lon=28.9025&lat=82.5926&apiKey=ceb89258ec1bc5b95870cba7d41ddfeba99e8bc7&keyword=Florida+Woman%5C&radius=300&cursor=AoIIQ9K7%2FjluZXdzZmVlZC5hcnRpY2xlLjczNjM0OTMw\n"
     ]
    },
    {
     "name": "stdout",
     "output_type": "stream",
     "text": [
      "https://www.accunewsapp.com/api/v1/articles/?lon=28.9025&lat=82.5926&apiKey=ceb89258ec1bc5b95870cba7d41ddfeba99e8bc7&keyword=Florida+Woman%5C&radius=300&cursor=AoIIQ9KT1DluZXdzZmVlZC5hcnRpY2xlLjczODk3ODU4\n",
      "https://www.accunewsapp.com/api/v1/articles/?lon=28.9025&lat=82.5926&apiKey=ceb89258ec1bc5b95870cba7d41ddfeba99e8bc7&keyword=Florida+Woman%5C&radius=300&cursor=AoIIQ9JuvjluZXdzZmVlZC5hcnRpY2xlLjczMzUyNDg4\n",
      "https://www.accunewsapp.com/api/v1/articles/?lon=28.9025&lat=82.5926&apiKey=ceb89258ec1bc5b95870cba7d41ddfeba99e8bc7&keyword=Florida+Woman%5C&radius=300&cursor=AoIIQ9I9tjluZXdzZmVlZC5hcnRpY2xlLjcyOTQxODkw\n",
      "https://www.accunewsapp.com/api/v1/articles/?lon=28.9025&lat=82.5926&apiKey=ceb89258ec1bc5b95870cba7d41ddfeba99e8bc7&keyword=Florida+Woman%5C&radius=300&cursor=AoIIQ9IYOzluZXdzZmVlZC5hcnRpY2xlLjcyNjc3ODM4\n",
      "https://www.accunewsapp.com/api/v1/articles/?lon=28.9025&lat=82.5926&apiKey=ceb89258ec1bc5b95870cba7d41ddfeba99e8bc7&keyword=Florida+Woman%5C&radius=300&cursor=AoIIQ9HyPTluZXdzZmVlZC5hcnRpY2xlLjc1MzE5NTc3\n",
      "https://www.accunewsapp.com/api/v1/articles/?lon=28.9025&lat=82.5926&apiKey=ceb89258ec1bc5b95870cba7d41ddfeba99e8bc7&keyword=Florida+Woman%5C&radius=300&cursor=AoIIQ9GxnDluZXdzZmVlZC5hcnRpY2xlLjcyNjcwMTY3\n",
      "https://www.accunewsapp.com/api/v1/articles/?lon=28.9025&lat=82.5926&apiKey=ceb89258ec1bc5b95870cba7d41ddfeba99e8bc7&keyword=Florida+Woman%5C&radius=300&cursor=AoIIQ9GDXDluZXdzZmVlZC5hcnRpY2xlLjcyNjU5MzY0\n",
      "https://www.accunewsapp.com/api/v1/articles/?lon=28.9025&lat=82.5926&apiKey=ceb89258ec1bc5b95870cba7d41ddfeba99e8bc7&keyword=Florida+Woman%5C&radius=300&cursor=AoIIQ9FBbjluZXdzZmVlZC5hcnRpY2xlLjczNDgxODcy\n",
      "https://www.accunewsapp.com/api/v1/articles/?lon=28.9025&lat=82.5926&apiKey=ceb89258ec1bc5b95870cba7d41ddfeba99e8bc7&keyword=Florida+Woman%5C&radius=300&cursor=AoIIQ9EhmDluZXdzZmVlZC5hcnRpY2xlLjcyNjc0ODA0\n",
      "https://www.accunewsapp.com/api/v1/articles/?lon=28.9025&lat=82.5926&apiKey=ceb89258ec1bc5b95870cba7d41ddfeba99e8bc7&keyword=Florida+Woman%5C&radius=300&cursor=AoIIQ9DsPDluZXdzZmVlZC5hcnRpY2xlLjcyNDQ0MTIy\n",
      "https://www.accunewsapp.com/api/v1/articles/?lon=28.9025&lat=82.5926&apiKey=ceb89258ec1bc5b95870cba7d41ddfeba99e8bc7&keyword=Florida+Woman%5C&radius=300&cursor=AoIIQ9CmFTluZXdzZmVlZC5hcnRpY2xlLjcyNzU4MTQy\n",
      "https://www.accunewsapp.com/api/v1/articles/?lon=28.9025&lat=82.5926&apiKey=ceb89258ec1bc5b95870cba7d41ddfeba99e8bc7&keyword=Florida+Woman%5C&radius=300&cursor=AoIIQ9A53DluZXdzZmVlZC5hcnRpY2xlLjczOTQ1NjY5\n",
      "https://www.accunewsapp.com/api/v1/articles/?lon=28.9025&lat=82.5926&apiKey=ceb89258ec1bc5b95870cba7d41ddfeba99e8bc7&keyword=Florida+Woman%5C&radius=300&cursor=AoIIQ8%2FzvDluZXdzZmVlZC5hcnRpY2xlLjcxOTQ0NTYw\n",
      "https://www.accunewsapp.com/api/v1/articles/?lon=28.9025&lat=82.5926&apiKey=ceb89258ec1bc5b95870cba7d41ddfeba99e8bc7&keyword=Florida+Woman%5C&radius=300&cursor=AoIIQ8%2B7SDluZXdzZmVlZC5hcnRpY2xlLjczMDExODE1\n",
      "https://www.accunewsapp.com/api/v1/articles/?lon=28.9025&lat=82.5926&apiKey=ceb89258ec1bc5b95870cba7d41ddfeba99e8bc7&keyword=Florida+Woman%5C&radius=300&cursor=AoIIQ8%2BVZjluZXdzZmVlZC5hcnRpY2xlLjcxNTEyOTc1\n",
      "https://www.accunewsapp.com/api/v1/articles/?lon=28.9025&lat=82.5926&apiKey=ceb89258ec1bc5b95870cba7d41ddfeba99e8bc7&keyword=Florida+Woman%5C&radius=300&cursor=AoIIQ89zazluZXdzZmVlZC5hcnRpY2xlLjcxNDIxODU5\n",
      "https://www.accunewsapp.com/api/v1/articles/?lon=28.9025&lat=82.5926&apiKey=ceb89258ec1bc5b95870cba7d41ddfeba99e8bc7&keyword=Florida+Woman%5C&radius=300&cursor=AoIIQ89VBDluZXdzZmVlZC5hcnRpY2xlLjcyMDExODAx\n",
      "https://www.accunewsapp.com/api/v1/articles/?lon=28.9025&lat=82.5926&apiKey=ceb89258ec1bc5b95870cba7d41ddfeba99e8bc7&keyword=Florida+Woman%5C&radius=300&cursor=AoIIQ882wjluZXdzZmVlZC5hcnRpY2xlLjczMDQ0MzA4\n",
      "https://www.accunewsapp.com/api/v1/articles/?lon=28.9025&lat=82.5926&apiKey=ceb89258ec1bc5b95870cba7d41ddfeba99e8bc7&keyword=Florida+Woman%5C&radius=300&cursor=AoIIQ88ZYTluZXdzZmVlZC5hcnRpY2xlLjcxNDM5MDQ2\n",
      "https://www.accunewsapp.com/api/v1/articles/?lon=28.9025&lat=82.5926&apiKey=ceb89258ec1bc5b95870cba7d41ddfeba99e8bc7&keyword=Florida+Woman%5C&radius=300&cursor=AoIIQ88BPzluZXdzZmVlZC5hcnRpY2xlLjcxMzkwMDI5\n"
     ]
    },
    {
     "ename": "KeyError",
     "evalue": "'next'",
     "output_type": "error",
     "traceback": [
      "\u001b[1;31m---------------------------------------------------------------------------\u001b[0m",
      "\u001b[1;31mKeyError\u001b[0m                                  Traceback (most recent call last)",
      "\u001b[1;32m<ipython-input-3-f84b4ddff26d>\u001b[0m in \u001b[0;36m<module>\u001b[1;34m\u001b[0m\n\u001b[0;32m     27\u001b[0m         \u001b[1;32mbreak\u001b[0m\u001b[1;33m\u001b[0m\u001b[1;33m\u001b[0m\u001b[0m\n\u001b[0;32m     28\u001b[0m \u001b[1;33m\u001b[0m\u001b[0m\n\u001b[1;32m---> 29\u001b[1;33m     \u001b[0mprint\u001b[0m\u001b[1;33m(\u001b[0m\u001b[0marticles\u001b[0m\u001b[1;33m[\u001b[0m\u001b[1;34m'next'\u001b[0m\u001b[1;33m]\u001b[0m\u001b[1;33m)\u001b[0m\u001b[1;33m\u001b[0m\u001b[1;33m\u001b[0m\u001b[0m\n\u001b[0m\u001b[0;32m     30\u001b[0m \u001b[1;33m\u001b[0m\u001b[0m\n",
      "\u001b[1;31mKeyError\u001b[0m: 'next'"
     ]
    }
   ],
   "source": [
    "\n",
    "titles_1 = []\n",
    "summary_1 = []\n",
    "link_1 = []\n",
    "time_1 = []\n",
    "source_1 = []\n",
    "address_1 = []\n",
    "\n",
    "articles = requests.get(url,verify=False).json()\n",
    "print(articles['next'])\n",
    "i = 0\n",
    "while True:\n",
    "   \n",
    "    for result in articles['results'] :\n",
    "        titles_1.append(result['title'])\n",
    "        summary_1.append(result['summary'])\n",
    "        time_1.append(result['time'])\n",
    "        link_1.append(result['link'])\n",
    "        source_1.append(result['source']['name'])\n",
    "        address_1.append(result['source']['address'])\n",
    "        i = i + 1\n",
    "    if i >100000: \n",
    "        break\n",
    "    articles = requests.get(articles['next'],verify=False).json()\n",
    "        \n",
    "    if articles == {}:\n",
    "        break\n",
    "            \n",
    "    print(articles['next'])\n",
    "    "
   ]
  },
  {
   "cell_type": "code",
   "execution_count": 4,
   "metadata": {},
   "outputs": [],
   "source": [
    "news_df_dict = {'Title': titles_1,\n",
    "          'Summary': summary_1,\n",
    "          'Link': link_1,\n",
    "          'Time': time_1,\n",
    "          'Source': source_1,\n",
    "          'Address': address_1}\n",
    "\n",
    "news_df = pd.DataFrame(news_df_dict)\n",
    "\n",
    "news_df.to_csv(\"Localwoman_news_data.csv\", index=False)"
   ]
  },
  {
   "cell_type": "code",
   "execution_count": null,
   "metadata": {},
   "outputs": [],
   "source": []
  }
 ],
 "metadata": {
  "kernelspec": {
   "display_name": "Python [conda env:PythonData] *",
   "language": "python",
   "name": "conda-env-PythonData-py"
  },
  "language_info": {
   "codemirror_mode": {
    "name": "ipython",
    "version": 3
   },
   "file_extension": ".py",
   "mimetype": "text/x-python",
   "name": "python",
   "nbconvert_exporter": "python",
   "pygments_lexer": "ipython3",
   "version": "3.6.8"
  }
 },
 "nbformat": 4,
 "nbformat_minor": 2
}
