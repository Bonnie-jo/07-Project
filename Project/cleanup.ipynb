{
 "cells": [
  {
   "cell_type": "code",
   "execution_count": 158,
   "metadata": {},
   "outputs": [],
   "source": [
    "# Dependencies and Setup\n",
    "import matplotlib.pyplot as plt\n",
    "import pandas as pd\n",
    "import numpy as np\n",
    "import requests\n",
    "import time\n",
    "\n",
    "\n",
    "# Import API key\n",
    "from pprint import pprint\n",
    "from config import api_key \n",
    "from pandas.io.json import json_normalize\n",
    "\n",
    "import urllib3\n",
    "urllib3.disable_warnings()"
   ]
  },
  {
   "cell_type": "code",
   "execution_count": 159,
   "metadata": {
    "scrolled": true
   },
   "outputs": [],
   "source": [
    "local_df = pd.read_csv(\"Localwoman_news_data.csv\")"
   ]
  },
  {
   "cell_type": "code",
   "execution_count": 160,
   "metadata": {
    "scrolled": false
   },
   "outputs": [],
   "source": [
    "local_df = local_df.dropna(how='all')\n",
    "\n",
    "new = local_df['Address'].str.split(\",\",n=3, expand=True)\n",
    "new['street_address'] = new[0]\n",
    "new['city'] = new[1]\n",
    "new['state'] = new[2]\n",
    "new1 = new['state'].str.split(n=1, expand=True)\n",
    "\n",
    "new1.rename(columns={0: \"State\",1: \"Zip\"}, inplace=True)\n",
    "\n",
    "clean = local_df.merge(new1, right_index=True, left_index=True)\n",
    "\n",
    "#wh_data_cl = wh_data.loc[wh_data['Humidity'] <= 101]\n",
    "clean_df = clean.loc[clean['State'] == \"FL\"]\n"
   ]
  },
  {
   "cell_type": "code",
   "execution_count": 161,
   "metadata": {},
   "outputs": [],
   "source": [
    "local_news_df = clean_df\n",
    "local_news_df.to_csv(\"Localwoman_news_data.csv\")"
   ]
  },
  {
   "cell_type": "code",
   "execution_count": null,
   "metadata": {},
   "outputs": [],
   "source": []
  }
 ],
 "metadata": {
  "kernelspec": {
   "display_name": "Python [conda env:PythonData] *",
   "language": "python",
   "name": "conda-env-PythonData-py"
  },
  "language_info": {
   "codemirror_mode": {
    "name": "ipython",
    "version": 3
   },
   "file_extension": ".py",
   "mimetype": "text/x-python",
   "name": "python",
   "nbconvert_exporter": "python",
   "pygments_lexer": "ipython3",
   "version": "3.6.8"
  }
 },
 "nbformat": 4,
 "nbformat_minor": 2
}
