{
 "cells": [
  {
   "cell_type": "code",
   "execution_count": 38,
   "metadata": {},
   "outputs": [],
   "source": [
    "# Dependencies and Setup\n",
    "import matplotlib.pyplot as plt\n",
    "import pandas as pd\n",
    "import numpy as np\n",
    "import requests\n",
    "import time\n",
    "\n",
    "\n",
    "# Import API key\n",
    "from pprint import pprint\n",
    "from config import api_key \n",
    "from pandas.io.json import json_normalize\n",
    "\n",
    "import urllib3\n",
    "urllib3.disable_warnings()\n"
   ]
  },
  {
   "cell_type": "code",
   "execution_count": 39,
   "metadata": {},
   "outputs": [
    {
     "name": "stdout",
     "output_type": "stream",
     "text": [
      "https://www.accunewsapp.com/api/v1/articles/?lon=28.9025&lat=82.5926&apiKey=ceb89258ec1bc5b95870cba7d41ddfeba99e8bc7&keyword=Florida%20Man%5C&radius=300\n"
     ]
    }
   ],
   "source": [
    "#starting URL\n",
    "\n",
    "keywords =\"Florida Man\"\n",
    "url = \"https://www.accunewsapp.com/api/v1/articles/?lon=28.9025&lat=82.5926&apiKey=\" + api_key + \"&keyword=Florida%20Man%5C&radius=300\"\n",
    "\n",
    "print(url)"
   ]
  },
  {
   "cell_type": "code",
   "execution_count": 55,
   "metadata": {},
   "outputs": [
    {
     "name": "stdout",
     "output_type": "stream",
     "text": [
      "https://www.accunewsapp.com/api/v1/articles/?lon=28.9025&lat=82.5926&apiKey=ceb89258ec1bc5b95870cba7d41ddfeba99e8bc7&keyword=Florida+Man%5C&radius=300&cursor=AoIIQ9rRejluZXdzZmVlZC5hcnRpY2xlLjc5MzEzNjQ1\n",
      "https://www.accunewsapp.com/api/v1/articles/?lon=28.9025&lat=82.5926&apiKey=ceb89258ec1bc5b95870cba7d41ddfeba99e8bc7&keyword=Florida+Man%5C&radius=300&cursor=AoIIQ9qB8TluZXdzZmVlZC5hcnRpY2xlLjc5MTI5Nzcw\n",
      "https://www.accunewsapp.com/api/v1/articles/?lon=28.9025&lat=82.5926&apiKey=ceb89258ec1bc5b95870cba7d41ddfeba99e8bc7&keyword=Florida+Man%5C&radius=300&cursor=AoIIQ9pNHTluZXdzZmVlZC5hcnRpY2xlLjc5NTAzMTMy\n",
      "https://www.accunewsapp.com/api/v1/articles/?lon=28.9025&lat=82.5926&apiKey=ceb89258ec1bc5b95870cba7d41ddfeba99e8bc7&keyword=Florida+Man%5C&radius=300&cursor=AoIIQ9omUDluZXdzZmVlZC5hcnRpY2xlLjc5NDI1NjIy\n",
      "https://www.accunewsapp.com/api/v1/articles/?lon=28.9025&lat=82.5926&apiKey=ceb89258ec1bc5b95870cba7d41ddfeba99e8bc7&keyword=Florida+Man%5C&radius=300&cursor=AoIIQ9oMIzluZXdzZmVlZC5hcnRpY2xlLjc4ODk5MjMw\n",
      "https://www.accunewsapp.com/api/v1/articles/?lon=28.9025&lat=82.5926&apiKey=ceb89258ec1bc5b95870cba7d41ddfeba99e8bc7&keyword=Florida+Man%5C&radius=300&cursor=AoIIQ9nsTjluZXdzZmVlZC5hcnRpY2xlLjc4NTQxNDQ1\n",
      "https://www.accunewsapp.com/api/v1/articles/?lon=28.9025&lat=82.5926&apiKey=ceb89258ec1bc5b95870cba7d41ddfeba99e8bc7&keyword=Florida+Man%5C&radius=300&cursor=AoIIQ9nDxDluZXdzZmVlZC5hcnRpY2xlLjc4ODk4NTYx\n",
      "https://www.accunewsapp.com/api/v1/articles/?lon=28.9025&lat=82.5926&apiKey=ceb89258ec1bc5b95870cba7d41ddfeba99e8bc7&keyword=Florida+Man%5C&radius=300&cursor=AoIIQ9mm4DluZXdzZmVlZC5hcnRpY2xlLjc4NzgyMjE3\n",
      "https://www.accunewsapp.com/api/v1/articles/?lon=28.9025&lat=82.5926&apiKey=ceb89258ec1bc5b95870cba7d41ddfeba99e8bc7&keyword=Florida+Man%5C&radius=300&cursor=AoIIQ9mS2zluZXdzZmVlZC5hcnRpY2xlLjc4ODQ3ODEy\n",
      "https://www.accunewsapp.com/api/v1/articles/?lon=28.9025&lat=82.5926&apiKey=ceb89258ec1bc5b95870cba7d41ddfeba99e8bc7&keyword=Florida+Man%5C&radius=300&cursor=AoIIQ9l41TluZXdzZmVlZC5hcnRpY2xlLjc4ODA3MjI0\n",
      "https://www.accunewsapp.com/api/v1/articles/?lon=28.9025&lat=82.5926&apiKey=ceb89258ec1bc5b95870cba7d41ddfeba99e8bc7&keyword=Florida+Man%5C&radius=300&cursor=AoIIQ9lm8jluZXdzZmVlZC5hcnRpY2xlLjc4NTAxMjgz\n",
      "https://www.accunewsapp.com/api/v1/articles/?lon=28.9025&lat=82.5926&apiKey=ceb89258ec1bc5b95870cba7d41ddfeba99e8bc7&keyword=Florida+Man%5C&radius=300&cursor=AoIIQ9lKJzluZXdzZmVlZC5hcnRpY2xlLjc4MDM4NzUz\n",
      "https://www.accunewsapp.com/api/v1/articles/?lon=28.9025&lat=82.5926&apiKey=ceb89258ec1bc5b95870cba7d41ddfeba99e8bc7&keyword=Florida+Man%5C&radius=300&cursor=AoIIQ9krBjluZXdzZmVlZC5hcnRpY2xlLjc4NTQ5NjIx\n",
      "https://www.accunewsapp.com/api/v1/articles/?lon=28.9025&lat=82.5926&apiKey=ceb89258ec1bc5b95870cba7d41ddfeba99e8bc7&keyword=Florida+Man%5C&radius=300&cursor=AoIIQ9kOZTluZXdzZmVlZC5hcnRpY2xlLjc4NTE3NTEx\n",
      "https://www.accunewsapp.com/api/v1/articles/?lon=28.9025&lat=82.5926&apiKey=ceb89258ec1bc5b95870cba7d41ddfeba99e8bc7&keyword=Florida+Man%5C&radius=300&cursor=AoIIQ9j%2FETluZXdzZmVlZC5hcnRpY2xlLjc4MDg5NjEw\n",
      "https://www.accunewsapp.com/api/v1/articles/?lon=28.9025&lat=82.5926&apiKey=ceb89258ec1bc5b95870cba7d41ddfeba99e8bc7&keyword=Florida+Man%5C&radius=300&cursor=AoIIQ9jkWTluZXdzZmVlZC5hcnRpY2xlLjc4MzgzMjE1\n",
      "https://www.accunewsapp.com/api/v1/articles/?lon=28.9025&lat=82.5926&apiKey=ceb89258ec1bc5b95870cba7d41ddfeba99e8bc7&keyword=Florida+Man%5C&radius=300&cursor=AoIIQ9jKqTluZXdzZmVlZC5hcnRpY2xlLjc4ODI2NjM5\n",
      "https://www.accunewsapp.com/api/v1/articles/?lon=28.9025&lat=82.5926&apiKey=ceb89258ec1bc5b95870cba7d41ddfeba99e8bc7&keyword=Florida+Man%5C&radius=300&cursor=AoIIQ9i2YjluZXdzZmVlZC5hcnRpY2xlLjc4ODMyNTE2\n",
      "https://www.accunewsapp.com/api/v1/articles/?lon=28.9025&lat=82.5926&apiKey=ceb89258ec1bc5b95870cba7d41ddfeba99e8bc7&keyword=Florida+Man%5C&radius=300&cursor=AoIIQ9igQTluZXdzZmVlZC5hcnRpY2xlLjc4MDQyMDMz\n",
      "https://www.accunewsapp.com/api/v1/articles/?lon=28.9025&lat=82.5926&apiKey=ceb89258ec1bc5b95870cba7d41ddfeba99e8bc7&keyword=Florida+Man%5C&radius=300&cursor=AoIIQ9iRAjluZXdzZmVlZC5hcnRpY2xlLjc4MTAwMzUz\n",
      "https://www.accunewsapp.com/api/v1/articles/?lon=28.9025&lat=82.5926&apiKey=ceb89258ec1bc5b95870cba7d41ddfeba99e8bc7&keyword=Florida+Man%5C&radius=300&cursor=AoIIQ9h08jluZXdzZmVlZC5hcnRpY2xlLjc4MzM1MzM0\n",
      "https://www.accunewsapp.com/api/v1/articles/?lon=28.9025&lat=82.5926&apiKey=ceb89258ec1bc5b95870cba7d41ddfeba99e8bc7&keyword=Florida+Man%5C&radius=300&cursor=AoIIQ9heWTluZXdzZmVlZC5hcnRpY2xlLjc3NjU2NjM3\n",
      "https://www.accunewsapp.com/api/v1/articles/?lon=28.9025&lat=82.5926&apiKey=ceb89258ec1bc5b95870cba7d41ddfeba99e8bc7&keyword=Florida+Man%5C&radius=300&cursor=AoIIQ9hDOzluZXdzZmVlZC5hcnRpY2xlLjc3NDM4NzY3\n",
      "https://www.accunewsapp.com/api/v1/articles/?lon=28.9025&lat=82.5926&apiKey=ceb89258ec1bc5b95870cba7d41ddfeba99e8bc7&keyword=Florida+Man%5C&radius=300&cursor=AoIIQ9gtuDluZXdzZmVlZC5hcnRpY2xlLjc3MzAzMTE0\n",
      "https://www.accunewsapp.com/api/v1/articles/?lon=28.9025&lat=82.5926&apiKey=ceb89258ec1bc5b95870cba7d41ddfeba99e8bc7&keyword=Florida+Man%5C&radius=300&cursor=AoIIQ9geCDluZXdzZmVlZC5hcnRpY2xlLjc3ODYzNDQ4\n",
      "https://www.accunewsapp.com/api/v1/articles/?lon=28.9025&lat=82.5926&apiKey=ceb89258ec1bc5b95870cba7d41ddfeba99e8bc7&keyword=Florida+Man%5C&radius=300&cursor=AoIIQ9gJUTluZXdzZmVlZC5hcnRpY2xlLjc3OTg4MzAx\n",
      "https://www.accunewsapp.com/api/v1/articles/?lon=28.9025&lat=82.5926&apiKey=ceb89258ec1bc5b95870cba7d41ddfeba99e8bc7&keyword=Florida+Man%5C&radius=300&cursor=AoIIQ9f3WDluZXdzZmVlZC5hcnRpY2xlLjc3MTMwNDc3\n",
      "https://www.accunewsapp.com/api/v1/articles/?lon=28.9025&lat=82.5926&apiKey=ceb89258ec1bc5b95870cba7d41ddfeba99e8bc7&keyword=Florida+Man%5C&radius=300&cursor=AoIIQ9fiAzluZXdzZmVlZC5hcnRpY2xlLjc3NTE0NTMw\n",
      "https://www.accunewsapp.com/api/v1/articles/?lon=28.9025&lat=82.5926&apiKey=ceb89258ec1bc5b95870cba7d41ddfeba99e8bc7&keyword=Florida+Man%5C&radius=300&cursor=AoIIQ9fKxDluZXdzZmVlZC5hcnRpY2xlLjc3MzM1MjY4\n",
      "https://www.accunewsapp.com/api/v1/articles/?lon=28.9025&lat=82.5926&apiKey=ceb89258ec1bc5b95870cba7d41ddfeba99e8bc7&keyword=Florida+Man%5C&radius=300&cursor=AoIIQ9eyKDluZXdzZmVlZC5hcnRpY2xlLjc3MDg0MjA1\n",
      "https://www.accunewsapp.com/api/v1/articles/?lon=28.9025&lat=82.5926&apiKey=ceb89258ec1bc5b95870cba7d41ddfeba99e8bc7&keyword=Florida+Man%5C&radius=300&cursor=AoIIQ9eb5jluZXdzZmVlZC5hcnRpY2xlLjc3Nzg4NDU2\n",
      "https://www.accunewsapp.com/api/v1/articles/?lon=28.9025&lat=82.5926&apiKey=ceb89258ec1bc5b95870cba7d41ddfeba99e8bc7&keyword=Florida+Man%5C&radius=300&cursor=AoIIQ9d%2BkTluZXdzZmVlZC5hcnRpY2xlLjc2ODc1MDI4\n",
      "https://www.accunewsapp.com/api/v1/articles/?lon=28.9025&lat=82.5926&apiKey=ceb89258ec1bc5b95870cba7d41ddfeba99e8bc7&keyword=Florida+Man%5C&radius=300&cursor=AoIIQ9dikTluZXdzZmVlZC5hcnRpY2xlLjc4Njg3MTAw\n",
      "https://www.accunewsapp.com/api/v1/articles/?lon=28.9025&lat=82.5926&apiKey=ceb89258ec1bc5b95870cba7d41ddfeba99e8bc7&keyword=Florida+Man%5C&radius=300&cursor=AoIIQ9cwAjluZXdzZmVlZC5hcnRpY2xlLjc3MTczOTQz\n",
      "https://www.accunewsapp.com/api/v1/articles/?lon=28.9025&lat=82.5926&apiKey=ceb89258ec1bc5b95870cba7d41ddfeba99e8bc7&keyword=Florida+Man%5C&radius=300&cursor=AoIIQ9cRRDluZXdzZmVlZC5hcnRpY2xlLjc3MjE2OTEy\n",
      "https://www.accunewsapp.com/api/v1/articles/?lon=28.9025&lat=82.5926&apiKey=ceb89258ec1bc5b95870cba7d41ddfeba99e8bc7&keyword=Florida+Man%5C&radius=300&cursor=AoIIQ9bm3TluZXdzZmVlZC5hcnRpY2xlLjc3MTQwMDYz\n",
      "https://www.accunewsapp.com/api/v1/articles/?lon=28.9025&lat=82.5926&apiKey=ceb89258ec1bc5b95870cba7d41ddfeba99e8bc7&keyword=Florida+Man%5C&radius=300&cursor=AoIIQ9a%2B8TluZXdzZmVlZC5hcnRpY2xlLjc3MzQxMTgz\n",
      "https://www.accunewsapp.com/api/v1/articles/?lon=28.9025&lat=82.5926&apiKey=ceb89258ec1bc5b95870cba7d41ddfeba99e8bc7&keyword=Florida+Man%5C&radius=300&cursor=AoIIQ9ajbzluZXdzZmVlZC5hcnRpY2xlLjc2NDMxNTIw\n",
      "https://www.accunewsapp.com/api/v1/articles/?lon=28.9025&lat=82.5926&apiKey=ceb89258ec1bc5b95870cba7d41ddfeba99e8bc7&keyword=Florida+Man%5C&radius=300&cursor=AoIIQ9aM%2FjluZXdzZmVlZC5hcnRpY2xlLjc3MDY4MDE4\n",
      "https://www.accunewsapp.com/api/v1/articles/?lon=28.9025&lat=82.5926&apiKey=ceb89258ec1bc5b95870cba7d41ddfeba99e8bc7&keyword=Florida+Man%5C&radius=300&cursor=AoIIQ9ZslDluZXdzZmVlZC5hcnRpY2xlLjc3MjIyMzA0\n",
      "https://www.accunewsapp.com/api/v1/articles/?lon=28.9025&lat=82.5926&apiKey=ceb89258ec1bc5b95870cba7d41ddfeba99e8bc7&keyword=Florida+Man%5C&radius=300&cursor=AoIIQ9ZBCzluZXdzZmVlZC5hcnRpY2xlLjc2MDk0NDA1\n"
     ]
    }
   ],
   "source": [
    "\n",
    "titles_1 = []\n",
    "summary_1 = []\n",
    "link_1 = []\n",
    "time_1 = []\n",
    "source_1 = []\n",
    "address_1 = []\n",
    "\n",
    "articles = requests.get(url,verify=False).json()\n",
    "print(articles['next'])\n",
    "i = 0\n",
    "while True:\n",
    "   \n",
    "    for result in articles['results'] :\n",
    "        titles_1.append(result['title'])\n",
    "        summary_1.append(result['summary'])\n",
    "        time_1.append(result['time'])\n",
    "        link_1.append(result['link'])\n",
    "        source_1.append(result['source']['name'])\n",
    "        address_1.append(result['source']['address'])\n",
    "        i = i + 1\n",
    "    if i >1000: \n",
    "        break\n",
    "    articles = requests.get(articles['next'],verify=False).json()\n",
    "        \n",
    "    if articles == {}:\n",
    "        break\n",
    "            \n",
    "    print(articles['next'])\n",
    "    "
   ]
  },
  {
   "cell_type": "code",
   "execution_count": 56,
   "metadata": {},
   "outputs": [],
   "source": [
    "news_df_dict = {'Title': titles_1,\n",
    "          'Summary': summary_1,\n",
    "          'Link': link_1,\n",
    "          'Time': time_1,\n",
    "          'Source': source_1,\n",
    "          'Address': address_1}\n",
    "\n",
    "news_df = pd.DataFrame(news_df_dict)\n",
    "\n",
    "news_df.to_csv(\"news_data.csv\", index=False)"
   ]
  },
  {
   "cell_type": "code",
   "execution_count": null,
   "metadata": {},
   "outputs": [],
   "source": []
  }
 ],
 "metadata": {
  "kernelspec": {
   "display_name": "Python [conda env:PythonData] *",
   "language": "python",
   "name": "conda-env-PythonData-py"
  },
  "language_info": {
   "codemirror_mode": {
    "name": "ipython",
    "version": 3
   },
   "file_extension": ".py",
   "mimetype": "text/x-python",
   "name": "python",
   "nbconvert_exporter": "python",
   "pygments_lexer": "ipython3",
   "version": "3.6.8"
  }
 },
 "nbformat": 4,
 "nbformat_minor": 2
}
