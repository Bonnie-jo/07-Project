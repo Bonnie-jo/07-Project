{
 "cells": [
  {
   "cell_type": "code",
   "execution_count": 6,
   "metadata": {},
   "outputs": [],
   "source": [
    "# Dependencies and Setup\n",
    "import matplotlib.pyplot as plt\n",
    "import pandas as pd\n",
    "import numpy as np\n",
    "import requests\n",
    "import time\n",
    "from tkinter import *\n",
    "import tkinter as tk\n",
    "import tkinter.messagebox\n",
    "import os\n",
    "from pprint import pprint\n",
    "from config import api_key \n",
    "from pandas.io.json import json_normalize\n",
    "\n",
    "import urllib3\n",
    "urllib3.disable_warnings()\n",
    "\n",
    "#category = input(\"catergory?\")"
   ]
  },
  {
   "cell_type": "code",
   "execution_count": 7,
   "metadata": {},
   "outputs": [],
   "source": [
    "path = 'data/'\n",
    "\n",
    "files = []\n",
    "\n",
    "def callback(event):\n",
    "    print (btn)\n",
    "    \n",
    "top = Tk()\n",
    "top.geometry('400x300+500+300')\n",
    "top.title('Select File to Clean')\n",
    "Lb1 = Listbox(top, font='Ariel')\n",
    "Lb1.pack(fill=tk.BOTH, expand=1)\n",
    "\n",
    "#content = tk.stringVar()\n",
    "#entry =tk.entry(top,textvariable=content).pack()\n",
    "fl=0 \n",
    "\n",
    "for r, d, f in os.walk(path):\n",
    "    for file in f:\n",
    "        if '.csv' in file:\n",
    "            files.append(os.path.join(file))      \n",
    "            Lb1.insert(fl,files[fl])\n",
    "            fl= fl + 1\n",
    "        \n",
    "top.mainloop()\n",
    "\n",
    "filter_df = pd.read_csv(\"data/Local_Florida Couple.csv\")"
   ]
  },
  {
   "cell_type": "code",
   "execution_count": 19,
   "metadata": {},
   "outputs": [
    {
     "data": {
      "text/plain": [
       "Unnamed: 0    8\n",
       "Title         8\n",
       "Summary       8\n",
       "Link          8\n",
       "Time          8\n",
       "Source        8\n",
       "Category      8\n",
       "Address       8\n",
       "State         8\n",
       "Zip           8\n",
       "dtype: int64"
      ]
     },
     "execution_count": 19,
     "metadata": {},
     "output_type": "execute_result"
    }
   ],
   "source": [
    "filtered = filter_df[filter_df['Title'].str.contains('Florida Couple', case=False)]\n",
    "filtered.count()"
   ]
  },
  {
   "cell_type": "code",
   "execution_count": 20,
   "metadata": {},
   "outputs": [],
   "source": [
    "filtered.to_csv(\"data/filtered_Local_Florida Couple.csv\")"
   ]
  }
 ],
 "metadata": {
  "kernelspec": {
   "display_name": "Python [conda env:PythonData] *",
   "language": "python",
   "name": "conda-env-PythonData-py"
  },
  "language_info": {
   "codemirror_mode": {
    "name": "ipython",
    "version": 3
   },
   "file_extension": ".py",
   "mimetype": "text/x-python",
   "name": "python",
   "nbconvert_exporter": "python",
   "pygments_lexer": "ipython3",
   "version": "3.6.8"
  }
 },
 "nbformat": 4,
 "nbformat_minor": 2
}
