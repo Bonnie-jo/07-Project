{
 "cells": [
  {
   "cell_type": "code",
   "execution_count": 31,
   "metadata": {},
   "outputs": [],
   "source": [
    "# Dependencies and Setup\n",
    "import matplotlib.pyplot as plt\n",
    "import pandas as pd\n",
    "import numpy as np\n",
    "import requests\n",
    "import time\n",
    "\n",
    "\n",
    "# Import API key\n",
    "from pprint import pprint\n",
    "from config import api_key1 \n",
    "from pandas.io.json import json_normalize\n",
    "\n",
    "import urllib3\n",
    "urllib3.disable_warnings()\n"
   ]
  },
  {
   "cell_type": "code",
   "execution_count": 32,
   "metadata": {},
   "outputs": [
    {
     "name": "stdout",
     "output_type": "stream",
     "text": [
      "enter search criteriaFlorida Couple\n",
      "https://www.accunewsapp.com/api/v1/articles/?lon=34.0522&lat=118.2437&apiKey=2eef5d73f1bb2c6b0aba8aca93436ea0f56df309&keyword=Florida Couple&radius=300\n"
     ]
    }
   ],
   "source": [
    "#starting URL\n",
    "\n",
    "keywords =input(\"enter search criteria\")\n",
    "url = \"https://www.accunewsapp.com/api/v1/articles/?lon=34.0522&lat=118.2437&apiKey=\" + api_key1 + \"&keyword=\"+keywords+\"&radius=300\"\n",
    "\n",
    "print(url)"
   ]
  },
  {
   "cell_type": "code",
   "execution_count": 33,
   "metadata": {},
   "outputs": [
    {
     "name": "stdout",
     "output_type": "stream",
     "text": [
      "https://www.accunewsapp.com/api/v1/articles/?lon=34.0522&lat=118.2437&apiKey=2eef5d73f1bb2c6b0aba8aca93436ea0f56df309&keyword=Florida+Couple&radius=300&cursor=AoIIQ9wpTzluZXdzZmVlZC5hcnRpY2xlLjc1NzI0NDEz\n",
      "https://www.accunewsapp.com/api/v1/articles/?lon=34.0522&lat=118.2437&apiKey=2eef5d73f1bb2c6b0aba8aca93436ea0f56df309&keyword=Florida+Couple&radius=300&cursor=AoIIQ9pFKzluZXdzZmVlZC5hcnRpY2xlLjc1NzExODEy\n",
      "https://www.accunewsapp.com/api/v1/articles/?lon=34.0522&lat=118.2437&apiKey=2eef5d73f1bb2c6b0aba8aca93436ea0f56df309&keyword=Florida+Couple&radius=300&cursor=AoIIQ9gLhTluZXdzZmVlZC5hcnRpY2xlLjc5NDkzNjk0\n",
      "https://www.accunewsapp.com/api/v1/articles/?lon=34.0522&lat=118.2437&apiKey=2eef5d73f1bb2c6b0aba8aca93436ea0f56df309&keyword=Florida+Couple&radius=300&cursor=AoIIQ9dBCzluZXdzZmVlZC5hcnRpY2xlLjc5MDMyODA1\n",
      "https://www.accunewsapp.com/api/v1/articles/?lon=34.0522&lat=118.2437&apiKey=2eef5d73f1bb2c6b0aba8aca93436ea0f56df309&keyword=Florida+Couple&radius=300&cursor=AoIIQ9brKjluZXdzZmVlZC5hcnRpY2xlLjc4NDA2Mjgx\n",
      "https://www.accunewsapp.com/api/v1/articles/?lon=34.0522&lat=118.2437&apiKey=2eef5d73f1bb2c6b0aba8aca93436ea0f56df309&keyword=Florida+Couple&radius=300&cursor=AoIIQ9aSNjluZXdzZmVlZC5hcnRpY2xlLjc4ODQxMjc5\n",
      "https://www.accunewsapp.com/api/v1/articles/?lon=34.0522&lat=118.2437&apiKey=2eef5d73f1bb2c6b0aba8aca93436ea0f56df309&keyword=Florida+Couple&radius=300&cursor=AoIIQ9ZAfjluZXdzZmVlZC5hcnRpY2xlLjc5MDEwMjg1\n",
      "https://www.accunewsapp.com/api/v1/articles/?lon=34.0522&lat=118.2437&apiKey=2eef5d73f1bb2c6b0aba8aca93436ea0f56df309&keyword=Florida+Couple&radius=300&cursor=AoIIQ9X7dzluZXdzZmVlZC5hcnRpY2xlLjc4MjgyNzc4\n",
      "https://www.accunewsapp.com/api/v1/articles/?lon=34.0522&lat=118.2437&apiKey=2eef5d73f1bb2c6b0aba8aca93436ea0f56df309&keyword=Florida+Couple&radius=300&cursor=AoIIQ9XIDzluZXdzZmVlZC5hcnRpY2xlLjc4ODEwMjI4\n",
      "https://www.accunewsapp.com/api/v1/articles/?lon=34.0522&lat=118.2437&apiKey=2eef5d73f1bb2c6b0aba8aca93436ea0f56df309&keyword=Florida+Couple&radius=300&cursor=AoIIQ9WidDluZXdzZmVlZC5hcnRpY2xlLjc3NjE5MTk3\n",
      "https://www.accunewsapp.com/api/v1/articles/?lon=34.0522&lat=118.2437&apiKey=2eef5d73f1bb2c6b0aba8aca93436ea0f56df309&keyword=Florida+Couple&radius=300&cursor=AoIIQ9VgvDluZXdzZmVlZC5hcnRpY2xlLjc4MjUwNDQw\n",
      "https://www.accunewsapp.com/api/v1/articles/?lon=34.0522&lat=118.2437&apiKey=2eef5d73f1bb2c6b0aba8aca93436ea0f56df309&keyword=Florida+Couple&radius=300&cursor=AoIIQ9UbNzluZXdzZmVlZC5hcnRpY2xlLjc3NzE0NTE1\n",
      "https://www.accunewsapp.com/api/v1/articles/?lon=34.0522&lat=118.2437&apiKey=2eef5d73f1bb2c6b0aba8aca93436ea0f56df309&keyword=Florida+Couple&radius=300&cursor=AoIIQ9SvxDluZXdzZmVlZC5hcnRpY2xlLjc2NDc2NTI5\n",
      "https://www.accunewsapp.com/api/v1/articles/?lon=34.0522&lat=118.2437&apiKey=2eef5d73f1bb2c6b0aba8aca93436ea0f56df309&keyword=Florida+Couple&radius=300&cursor=AoIIQ9RmUjluZXdzZmVlZC5hcnRpY2xlLjc3NzkwMzI4\n",
      "https://www.accunewsapp.com/api/v1/articles/?lon=34.0522&lat=118.2437&apiKey=2eef5d73f1bb2c6b0aba8aca93436ea0f56df309&keyword=Florida+Couple&radius=300&cursor=AoIIQ9QWWzluZXdzZmVlZC5hcnRpY2xlLjc3MDg1Mzcy\n",
      "https://www.accunewsapp.com/api/v1/articles/?lon=34.0522&lat=118.2437&apiKey=2eef5d73f1bb2c6b0aba8aca93436ea0f56df309&keyword=Florida+Couple&radius=300&cursor=AoIIQ9OwpzluZXdzZmVlZC5hcnRpY2xlLjcyMDM5NDgz\n",
      "https://www.accunewsapp.com/api/v1/articles/?lon=34.0522&lat=118.2437&apiKey=2eef5d73f1bb2c6b0aba8aca93436ea0f56df309&keyword=Florida+Couple&radius=300&cursor=AoIIQ9NsXTluZXdzZmVlZC5hcnRpY2xlLjc2MDAwMzky\n",
      "https://www.accunewsapp.com/api/v1/articles/?lon=34.0522&lat=118.2437&apiKey=2eef5d73f1bb2c6b0aba8aca93436ea0f56df309&keyword=Florida+Couple&radius=300&cursor=AoIIQ9MyFDluZXdzZmVlZC5hcnRpY2xlLjc1NTcxMzI1\n",
      "https://www.accunewsapp.com/api/v1/articles/?lon=34.0522&lat=118.2437&apiKey=2eef5d73f1bb2c6b0aba8aca93436ea0f56df309&keyword=Florida+Couple&radius=300&cursor=AoIIQ9Ly2zluZXdzZmVlZC5hcnRpY2xlLjc4MDg1OTkz\n",
      "https://www.accunewsapp.com/api/v1/articles/?lon=34.0522&lat=118.2437&apiKey=2eef5d73f1bb2c6b0aba8aca93436ea0f56df309&keyword=Florida+Couple&radius=300&cursor=AoIIQ9KaLTluZXdzZmVlZC5hcnRpY2xlLjc1OTg5Nzcx\n",
      "https://www.accunewsapp.com/api/v1/articles/?lon=34.0522&lat=118.2437&apiKey=2eef5d73f1bb2c6b0aba8aca93436ea0f56df309&keyword=Florida+Couple&radius=300&cursor=AoIIQ9JgtzluZXdzZmVlZC5hcnRpY2xlLjc1NzUwNTIx\n",
      "https://www.accunewsapp.com/api/v1/articles/?lon=34.0522&lat=118.2437&apiKey=2eef5d73f1bb2c6b0aba8aca93436ea0f56df309&keyword=Florida+Couple&radius=300&cursor=AoIIQ9Ie4zluZXdzZmVlZC5hcnRpY2xlLjc3Mzg2NTI3\n",
      "https://www.accunewsapp.com/api/v1/articles/?lon=34.0522&lat=118.2437&apiKey=2eef5d73f1bb2c6b0aba8aca93436ea0f56df309&keyword=Florida+Couple&radius=300&cursor=AoIIQ9Hd8zluZXdzZmVlZC5hcnRpY2xlLjc0OTUyOTM2\n",
      "https://www.accunewsapp.com/api/v1/articles/?lon=34.0522&lat=118.2437&apiKey=2eef5d73f1bb2c6b0aba8aca93436ea0f56df309&keyword=Florida+Couple&radius=300&cursor=AoIIQ9GUrDluZXdzZmVlZC5hcnRpY2xlLjc0NjAzMDg5\n",
      "https://www.accunewsapp.com/api/v1/articles/?lon=34.0522&lat=118.2437&apiKey=2eef5d73f1bb2c6b0aba8aca93436ea0f56df309&keyword=Florida+Couple&radius=300&cursor=AoIIQ9E%2FxjluZXdzZmVlZC5hcnRpY2xlLjc1ODkwOTEx\n",
      "https://www.accunewsapp.com/api/v1/articles/?lon=34.0522&lat=118.2437&apiKey=2eef5d73f1bb2c6b0aba8aca93436ea0f56df309&keyword=Florida+Couple&radius=300&cursor=AoIIQ9EFhzluZXdzZmVlZC5hcnRpY2xlLjc1MDcyMzI4\n",
      "https://www.accunewsapp.com/api/v1/articles/?lon=34.0522&lat=118.2437&apiKey=2eef5d73f1bb2c6b0aba8aca93436ea0f56df309&keyword=Florida+Couple&radius=300&cursor=AoIIQ9CvAzluZXdzZmVlZC5hcnRpY2xlLjc0MjI1MTAy\n",
      "https://www.accunewsapp.com/api/v1/articles/?lon=34.0522&lat=118.2437&apiKey=2eef5d73f1bb2c6b0aba8aca93436ea0f56df309&keyword=Florida+Couple&radius=300&cursor=AoIIQ9BoLDluZXdzZmVlZC5hcnRpY2xlLjc0MDA3NDg4\n",
      "https://www.accunewsapp.com/api/v1/articles/?lon=34.0522&lat=118.2437&apiKey=2eef5d73f1bb2c6b0aba8aca93436ea0f56df309&keyword=Florida+Couple&radius=300&cursor=AoIIQ9AY9TluZXdzZmVlZC5hcnRpY2xlLjcyNjkwODky\n",
      "https://www.accunewsapp.com/api/v1/articles/?lon=34.0522&lat=118.2437&apiKey=2eef5d73f1bb2c6b0aba8aca93436ea0f56df309&keyword=Florida+Couple&radius=300&cursor=AoIIQ8%2FluzluZXdzZmVlZC5hcnRpY2xlLjczNDc4Njk1\n",
      "https://www.accunewsapp.com/api/v1/articles/?lon=34.0522&lat=118.2437&apiKey=2eef5d73f1bb2c6b0aba8aca93436ea0f56df309&keyword=Florida+Couple&radius=300&cursor=AoIIQ8%2BtvTluZXdzZmVlZC5hcnRpY2xlLjc1MzE3ODYw\n",
      "https://www.accunewsapp.com/api/v1/articles/?lon=34.0522&lat=118.2437&apiKey=2eef5d73f1bb2c6b0aba8aca93436ea0f56df309&keyword=Florida+Couple&radius=300&cursor=AoIIQ89iNjluZXdzZmVlZC5hcnRpY2xlLjczNzU5Mjky\n",
      "https://www.accunewsapp.com/api/v1/articles/?lon=34.0522&lat=118.2437&apiKey=2eef5d73f1bb2c6b0aba8aca93436ea0f56df309&keyword=Florida+Couple&radius=300&cursor=AoIIQ88nLjluZXdzZmVlZC5hcnRpY2xlLjczODMzNDk1\n",
      "https://www.accunewsapp.com/api/v1/articles/?lon=34.0522&lat=118.2437&apiKey=2eef5d73f1bb2c6b0aba8aca93436ea0f56df309&keyword=Florida+Couple&radius=300&cursor=AoIIQ87oDjluZXdzZmVlZC5hcnRpY2xlLjczNzY0Mzcy\n",
      "https://www.accunewsapp.com/api/v1/articles/?lon=34.0522&lat=118.2437&apiKey=2eef5d73f1bb2c6b0aba8aca93436ea0f56df309&keyword=Florida+Couple&radius=300&cursor=AoIIQ86d4DluZXdzZmVlZC5hcnRpY2xlLjczMzYxNTU5\n",
      "https://www.accunewsapp.com/api/v1/articles/?lon=34.0522&lat=118.2437&apiKey=2eef5d73f1bb2c6b0aba8aca93436ea0f56df309&keyword=Florida+Couple&radius=300&cursor=AoIIQ85HaDluZXdzZmVlZC5hcnRpY2xlLjcyNjY0Nzg0\n",
      "https://www.accunewsapp.com/api/v1/articles/?lon=34.0522&lat=118.2437&apiKey=2eef5d73f1bb2c6b0aba8aca93436ea0f56df309&keyword=Florida+Couple&radius=300&cursor=AoIIQ83%2BqjluZXdzZmVlZC5hcnRpY2xlLjcxOTcxMzg1\n",
      "https://www.accunewsapp.com/api/v1/articles/?lon=34.0522&lat=118.2437&apiKey=2eef5d73f1bb2c6b0aba8aca93436ea0f56df309&keyword=Florida+Couple&radius=300&cursor=AoIIQ825yjluZXdzZmVlZC5hcnRpY2xlLjcxNzAxMjg1\n",
      "https://www.accunewsapp.com/api/v1/articles/?lon=34.0522&lat=118.2437&apiKey=2eef5d73f1bb2c6b0aba8aca93436ea0f56df309&keyword=Florida+Couple&radius=300&cursor=AoIIQ81lIjluZXdzZmVlZC5hcnRpY2xlLjY3MzYzMzQz\n",
      "https://www.accunewsapp.com/api/v1/articles/?lon=34.0522&lat=118.2437&apiKey=2eef5d73f1bb2c6b0aba8aca93436ea0f56df309&keyword=Florida+Couple&radius=300&cursor=AoIIQ80q6zluZXdzZmVlZC5hcnRpY2xlLjczNjAyMTU5\n",
      "https://www.accunewsapp.com/api/v1/articles/?lon=34.0522&lat=118.2437&apiKey=2eef5d73f1bb2c6b0aba8aca93436ea0f56df309&keyword=Florida+Couple&radius=300&cursor=AoIIQ8zp2TluZXdzZmVlZC5hcnRpY2xlLjcxMzg5Nzk2\n"
     ]
    },
    {
     "name": "stdout",
     "output_type": "stream",
     "text": [
      "https://www.accunewsapp.com/api/v1/articles/?lon=34.0522&lat=118.2437&apiKey=2eef5d73f1bb2c6b0aba8aca93436ea0f56df309&keyword=Florida+Couple&radius=300&cursor=AoIIQ8yz2DluZXdzZmVlZC5hcnRpY2xlLjcyMDMxMjQ3\n",
      "https://www.accunewsapp.com/api/v1/articles/?lon=34.0522&lat=118.2437&apiKey=2eef5d73f1bb2c6b0aba8aca93436ea0f56df309&keyword=Florida+Couple&radius=300&cursor=AoIIQ8yHDDluZXdzZmVlZC5hcnRpY2xlLjcyNjcwNDY4\n",
      "https://www.accunewsapp.com/api/v1/articles/?lon=34.0522&lat=118.2437&apiKey=2eef5d73f1bb2c6b0aba8aca93436ea0f56df309&keyword=Florida+Couple&radius=300&cursor=AoIIQ8xTBzluZXdzZmVlZC5hcnRpY2xlLjcxNjcwOTkx\n",
      "https://www.accunewsapp.com/api/v1/articles/?lon=34.0522&lat=118.2437&apiKey=2eef5d73f1bb2c6b0aba8aca93436ea0f56df309&keyword=Florida+Couple&radius=300&cursor=AoIIQ8wTMjluZXdzZmVlZC5hcnRpY2xlLjcxNDM5Mjg4\n",
      "https://www.accunewsapp.com/api/v1/articles/?lon=34.0522&lat=118.2437&apiKey=2eef5d73f1bb2c6b0aba8aca93436ea0f56df309&keyword=Florida+Couple&radius=300&cursor=AoIIQ8vGADluZXdzZmVlZC5hcnRpY2xlLjY0MTc0MTM0\n",
      "https://www.accunewsapp.com/api/v1/articles/?lon=34.0522&lat=118.2437&apiKey=2eef5d73f1bb2c6b0aba8aca93436ea0f56df309&keyword=Florida+Couple&radius=300&cursor=AoIIQ8uTHjluZXdzZmVlZC5hcnRpY2xlLjY2MjM4MjU5\n",
      "https://www.accunewsapp.com/api/v1/articles/?lon=34.0522&lat=118.2437&apiKey=2eef5d73f1bb2c6b0aba8aca93436ea0f56df309&keyword=Florida+Couple&radius=300&cursor=AoIIQ8tImTluZXdzZmVlZC5hcnRpY2xlLjY2NTQ1MTA0\n",
      "https://www.accunewsapp.com/api/v1/articles/?lon=34.0522&lat=118.2437&apiKey=2eef5d73f1bb2c6b0aba8aca93436ea0f56df309&keyword=Florida+Couple&radius=300&cursor=AoIIQ8sApTluZXdzZmVlZC5hcnRpY2xlLjcwNzg2MzMy\n",
      "https://www.accunewsapp.com/api/v1/articles/?lon=34.0522&lat=118.2437&apiKey=2eef5d73f1bb2c6b0aba8aca93436ea0f56df309&keyword=Florida+Couple&radius=300&cursor=AoIIQ8q2MDluZXdzZmVlZC5hcnRpY2xlLjcxNjUwMzcx\n",
      "https://www.accunewsapp.com/api/v1/articles/?lon=34.0522&lat=118.2437&apiKey=2eef5d73f1bb2c6b0aba8aca93436ea0f56df309&keyword=Florida+Couple&radius=300&cursor=AoIIQ8pUljluZXdzZmVlZC5hcnRpY2xlLjcxMzUxNTQ4\n",
      "https://www.accunewsapp.com/api/v1/articles/?lon=34.0522&lat=118.2437&apiKey=2eef5d73f1bb2c6b0aba8aca93436ea0f56df309&keyword=Florida+Couple&radius=300&cursor=AoIIQ8oZ1jluZXdzZmVlZC5hcnRpY2xlLjY5ODUwMjEy\n",
      "https://www.accunewsapp.com/api/v1/articles/?lon=34.0522&lat=118.2437&apiKey=2eef5d73f1bb2c6b0aba8aca93436ea0f56df309&keyword=Florida+Couple&radius=300&cursor=AoIIQ8nU4TluZXdzZmVlZC5hcnRpY2xlLjY5ODU0MDQ4\n",
      "https://www.accunewsapp.com/api/v1/articles/?lon=34.0522&lat=118.2437&apiKey=2eef5d73f1bb2c6b0aba8aca93436ea0f56df309&keyword=Florida+Couple&radius=300&cursor=AoIIQ8mWKDluZXdzZmVlZC5hcnRpY2xlLjY1NTczMTUx\n",
      "https://www.accunewsapp.com/api/v1/articles/?lon=34.0522&lat=118.2437&apiKey=2eef5d73f1bb2c6b0aba8aca93436ea0f56df309&keyword=Florida+Couple&radius=300&cursor=AoIIQ8lbHDluZXdzZmVlZC5hcnRpY2xlLjcwMDc4MzI1\n",
      "https://www.accunewsapp.com/api/v1/articles/?lon=34.0522&lat=118.2437&apiKey=2eef5d73f1bb2c6b0aba8aca93436ea0f56df309&keyword=Florida+Couple&radius=300&cursor=AoIIQ8kByzluZXdzZmVlZC5hcnRpY2xlLjcwNjY4NzI1\n",
      "https://www.accunewsapp.com/api/v1/articles/?lon=34.0522&lat=118.2437&apiKey=2eef5d73f1bb2c6b0aba8aca93436ea0f56df309&keyword=Florida+Couple&radius=300&cursor=AoIIQ8ibjjluZXdzZmVlZC5hcnRpY2xlLjY5MTEzMTEw\n",
      "https://www.accunewsapp.com/api/v1/articles/?lon=34.0522&lat=118.2437&apiKey=2eef5d73f1bb2c6b0aba8aca93436ea0f56df309&keyword=Florida+Couple&radius=300&cursor=AoIIQ8hYtDluZXdzZmVlZC5hcnRpY2xlLjY5NzE5MjIw\n",
      "https://www.accunewsapp.com/api/v1/articles/?lon=34.0522&lat=118.2437&apiKey=2eef5d73f1bb2c6b0aba8aca93436ea0f56df309&keyword=Florida+Couple&radius=300&cursor=AoIIQ8gYszluZXdzZmVlZC5hcnRpY2xlLjY3ODQ1ODQ1\n",
      "https://www.accunewsapp.com/api/v1/articles/?lon=34.0522&lat=118.2437&apiKey=2eef5d73f1bb2c6b0aba8aca93436ea0f56df309&keyword=Florida+Couple&radius=300&cursor=AoIIQ8eoujluZXdzZmVlZC5hcnRpY2xlLjY4ODQ4MTM1\n"
     ]
    },
    {
     "ename": "KeyError",
     "evalue": "'next'",
     "output_type": "error",
     "traceback": [
      "\u001b[1;31m---------------------------------------------------------------------------\u001b[0m",
      "\u001b[1;31mKeyError\u001b[0m                                  Traceback (most recent call last)",
      "\u001b[1;32m<ipython-input-33-62d1e7df566c>\u001b[0m in \u001b[0;36m<module>\u001b[1;34m\u001b[0m\n\u001b[0;32m     29\u001b[0m         \u001b[1;32mbreak\u001b[0m\u001b[1;33m\u001b[0m\u001b[1;33m\u001b[0m\u001b[0m\n\u001b[0;32m     30\u001b[0m \u001b[1;33m\u001b[0m\u001b[0m\n\u001b[1;32m---> 31\u001b[1;33m     \u001b[0mprint\u001b[0m\u001b[1;33m(\u001b[0m\u001b[0marticles\u001b[0m\u001b[1;33m[\u001b[0m\u001b[1;34m'next'\u001b[0m\u001b[1;33m]\u001b[0m\u001b[1;33m)\u001b[0m\u001b[1;33m\u001b[0m\u001b[1;33m\u001b[0m\u001b[0m\n\u001b[0m\u001b[0;32m     32\u001b[0m \u001b[1;33m\u001b[0m\u001b[0m\n",
      "\u001b[1;31mKeyError\u001b[0m: 'next'"
     ]
    }
   ],
   "source": [
    "\n",
    "titles_1 = []\n",
    "summary_1 = []\n",
    "link_1 = []\n",
    "time_1 = []\n",
    "source_1 = []\n",
    "address_1 = []\n",
    "category_1 = []\n",
    "\n",
    "articles = requests.get(url,verify=False).json()\n",
    "print(articles['next'])\n",
    "i = 0\n",
    "while True:\n",
    "   \n",
    "    for result in articles['results'] :\n",
    "        titles_1.append(result['title'])\n",
    "        summary_1.append(result['summary'])\n",
    "        time_1.append(result['time'])\n",
    "        link_1.append(result['link'])\n",
    "        source_1.append(result['source']['name'])\n",
    "        address_1.append(result['source']['address'])\n",
    "        category_1.append(keywords)\n",
    "        i = i + 1\n",
    "    if i >1000000: \n",
    "        break\n",
    "    articles = requests.get(articles['next'],verify=False).json()\n",
    "        \n",
    "    if articles == {}:\n",
    "        break\n",
    "            \n",
    "    print(articles['next'])\n",
    "    "
   ]
  },
  {
   "cell_type": "code",
   "execution_count": 34,
   "metadata": {},
   "outputs": [],
   "source": [
    "news_df_dict = {'Title': titles_1,\n",
    "          'Summary': summary_1,\n",
    "          'Link': link_1,\n",
    "          'Time': time_1,\n",
    "          'Source': source_1,\n",
    "            'Category': category_1,   \n",
    "          'Address': address_1}\n",
    "\n",
    "news_df = pd.DataFrame(news_df_dict)\n",
    "\n",
    "news_df.to_csv(\"data/Local_\"+keywords+\".csv\", index=False)"
   ]
  },
  {
   "cell_type": "code",
   "execution_count": 35,
   "metadata": {},
   "outputs": [],
   "source": [
    "local_df = pd.read_csv(\"data/Local_\"+keywords+\".csv\")"
   ]
  },
  {
   "cell_type": "code",
   "execution_count": 36,
   "metadata": {},
   "outputs": [],
   "source": [
    "local_df = local_df.dropna(how='all')\n",
    "\n",
    "new = local_df['Address'].str.split(\",\",n=3, expand=True)\n",
    "new['street_address'] = new[0]\n",
    "new['city'] = new[1]\n",
    "new['state'] = new[2]\n",
    "new1 = new['state'].str.split(n=1, expand=True)\n",
    "\n",
    "new1.rename(columns={0: \"State\",1: \"Zip\"}, inplace=True)\n",
    "\n",
    "clean = local_df.merge(new1, right_index=True, left_index=True)\n",
    "\n",
    "#wh_data_cl = wh_data.loc[wh_data['Humidity'] <= 101]\n",
    "clean_df = clean.loc[clean['State'] == \"FL\"]"
   ]
  },
  {
   "cell_type": "code",
   "execution_count": 37,
   "metadata": {},
   "outputs": [],
   "source": [
    "local_news_df = clean_df\n",
    "local_news_df.to_csv(\"data/Local_\"+keywords+\".csv\")"
   ]
  },
  {
   "cell_type": "code",
   "execution_count": null,
   "metadata": {},
   "outputs": [],
   "source": []
  }
 ],
 "metadata": {
  "kernelspec": {
   "display_name": "Python [conda env:PythonData] *",
   "language": "python",
   "name": "conda-env-PythonData-py"
  },
  "language_info": {
   "codemirror_mode": {
    "name": "ipython",
    "version": 3
   },
   "file_extension": ".py",
   "mimetype": "text/x-python",
   "name": "python",
   "nbconvert_exporter": "python",
   "pygments_lexer": "ipython3",
   "version": "3.6.8"
  }
 },
 "nbformat": 4,
 "nbformat_minor": 2
}
