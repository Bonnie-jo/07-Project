{
 "cells": [
  {
   "cell_type": "code",
   "execution_count": null,
   "metadata": {},
   "outputs": [],
   "source": [
    "#importing dependencies and csv\n",
    "\n",
    "import pandas as pd\n",
    "import matplotlib.pyplot as plt\n",
    "import numpy as np\n",
    "\n",
    "flo_man_nat_df = pd.read_csv('filtered_nyt_Florida_Man_data.csv')\n",
    "\n",
    "flo_man_nat_df= flo_man_nat_df.dropna()\n",
    "flo_man_nat_df.count()"
   ]
  },
  {
   "cell_type": "code",
   "execution_count": null,
   "metadata": {},
   "outputs": [],
   "source": [
    "arrest = flo_man_nat_df[flo_man_nat_df['Summary'].str.contains('arrest')]\n",
    "assault = flo_man_nat_df[flo_man_nat_df['Summary'].str.contains('assault')]\n",
    "gun = flo_man_nat_df[flo_man_nat_df['Summary'].str.contains('gun')]\n",
    "kill = flo_man_nat_df[flo_man_nat_df['Summary'].str.contains('kill')]\n",
    "murder = flo_man_nat_df[flo_man_nat_df['Summary'].str.contains('murder')]\n",
    "officer= flo_man_nat_df[flo_man_nat_df['Summary'].str.contains('officer')]\n",
    "police = flo_man_nat_df[flo_man_nat_df['Summary'].str.contains('police')]\n",
    "shot = flo_man_nat_df[flo_man_nat_df['Summary'].str.contains('shot')]\n",
    "\n",
    "t_arrest = flo_man_nat_df[flo_man_nat_df['Title'].str.contains('arrest')]\n",
    "t_assault = flo_man_nat_df[flo_man_nat_df['Title'].str.contains('assault')]\n",
    "t_gun = flo_man_nat_df[flo_man_nat_df['Title'].str.contains('gun')]\n",
    "t_kill = flo_man_nat_df[flo_man_nat_df['Title'].str.contains('kill')]\n",
    "t_murder = flo_man_nat_df[flo_man_nat_df['Title'].str.contains('murder')]\n",
    "t_officer= flo_man_nat_df[flo_man_nat_df['Title'].str.contains('officer')]\n",
    "t_police = flo_man_nat_df[flo_man_nat_df['Title'].str.contains('police')]\n",
    "t_shot = flo_man_nat_df[flo_man_nat_df['Title'].str.contains('shot')]\n",
    "\n",
    "\n",
    "crimes_df = pd.concat([arrest, assault, gun, kill, murder, officer, police, shot, t_arrest, t_assault, t_gun, t_kill, t_murder, t_officer, t_police, t_shot])\n",
    "crimes_df = crimes_df.drop_duplicates()\n",
    "crimes_df['Crimes'] = 'Reports Crime'\n",
    "crimes_df.count()"
   ]
  },
  {
   "cell_type": "code",
   "execution_count": null,
   "metadata": {},
   "outputs": [],
   "source": [
    "#finding complement of crimes_df in flo_man_df\n",
    "\n",
    "idx_cali = cali_man_loc_df.index\n",
    "idx_cri = crimes_df.index\n",
    "\n",
    "idx_law = idx_cali.difference(idx_cri)\n",
    "\n",
    "law_abiding = cali_man_loc_df.loc[idx_law, :]\n",
    "law_abiding_df = pd.DataFrame(law_abiding)\n",
    "law_abiding_df['Crimes'] = 'Does Not Report Crime'\n",
    "\n",
    "law_abiding_df.count()"
   ]
  },
  {
   "cell_type": "code",
   "execution_count": null,
   "metadata": {},
   "outputs": [],
   "source": [
    "local_report_df = pd.concat([crimes_df, law_abiding_df])\n",
    "\n",
    "to_plot = local_report_df['Crimes'].tolist()\n",
    "rc = to_plot.count('Reports Crime')\n",
    "dnrc = to_plot.count('Does Not Report Crime')\n",
    "length = len(to_plot)"
   ]
  },
  {
   "cell_type": "code",
   "execution_count": null,
   "metadata": {},
   "outputs": [],
   "source": [
    "# Pie chart, where the slices will be ordered and plotted counter-clockwise:\n",
    "labels = ['Reports Crime', 'Does Not Report Crime']\n",
    "sizes = [(rc/length*100), (dnrc/length*100)]\n",
    "explode = (0, 0.1)  \n",
    "\n",
    "fig1, ax1 = plt.subplots()\n",
    "ax1.pie(sizes, explode=explode, labels=labels, autopct='%1.1f%%',\n",
    "        shadow=True, startangle=90)\n",
    "ax1.axis('equal')  # Equal aspect ratio ensures that pie is drawn as a circle.\n",
    "\n",
    "ax1.set_title(\"Percentage of Local California News Articles Reporting on Crime\")\n",
    "plt.rcParams.update({'font.size': 30})\n",
    "fig1.set_size_inches(16, 8)\n",
    "fig1.savefig('cali_loc_crimes.png', dpi=100)\n",
    "\n",
    "plt.show()"
   ]
  }
 ],
 "metadata": {
  "kernelspec": {
   "display_name": "Python [conda env:PythonData] *",
   "language": "python",
   "name": "conda-env-PythonData-py"
  },
  "language_info": {
   "codemirror_mode": {
    "name": "ipython",
    "version": 3
   },
   "file_extension": ".py",
   "mimetype": "text/x-python",
   "name": "python",
   "nbconvert_exporter": "python",
   "pygments_lexer": "ipython3",
   "version": "3.6.8"
  }
 },
 "nbformat": 4,
 "nbformat_minor": 2
}
